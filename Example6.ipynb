{
 "cells": [
  {
   "cell_type": "markdown",
   "metadata": {},
   "source": [
    "第6章　不均一分散\n",
    "=====\n",
    "『Rによる計量経済学』第6章「不均一分散」におけるPythonコードです。  \n",
    "テキスト付属データセット(「k0601.csv」等)については出版社サイトよりダウンロードしてください。"
   ]
  },
  {
   "cell_type": "markdown",
   "metadata": {},
   "source": [
    "例題6-1\n",
    "-----\n",
    "「k0601.csv」を用いた均一分散のデータである場合の回帰分析。   \n",
    "BP統計量による不均一分散の有無の仮説検定を行います。"
   ]
  },
  {
   "cell_type": "code",
   "execution_count": 1,
   "metadata": {
    "collapsed": false
   },
   "outputs": [],
   "source": [
    "%matplotlib inline"
   ]
  },
  {
   "cell_type": "code",
   "execution_count": 2,
   "metadata": {
    "collapsed": true
   },
   "outputs": [],
   "source": [
    "# -*- coding:utf-8 -*-\n",
    "import numpy as np\n",
    "import pandas as pd\n",
    "import pyper as pr\n",
    "import matplotlib.pyplot as plt"
   ]
  },
  {
   "cell_type": "markdown",
   "metadata": {},
   "source": [
    "データを読み込みます。"
   ]
  },
  {
   "cell_type": "code",
   "execution_count": 3,
   "metadata": {
    "collapsed": true
   },
   "outputs": [],
   "source": [
    "data = pd.read_csv('example/k0601.csv')"
   ]
  },
  {
   "cell_type": "markdown",
   "metadata": {},
   "source": [
    "Rへデータを渡します。"
   ]
  },
  {
   "cell_type": "code",
   "execution_count": 4,
   "metadata": {
    "collapsed": true
   },
   "outputs": [],
   "source": [
    "r = pr.R(use_pandas=True)\n",
    "r.assign('data1', data)"
   ]
  },
  {
   "cell_type": "markdown",
   "metadata": {},
   "source": [
    "Rのコマンドを実行します。\n",
    "ここではsummary()を使って回帰分析の結果と、bptest()を使ってBP統計量による自己相関の有無の仮説検定を表示します。\n",
    "なお、bptest()はlmtestというパッケージを予めRでインストールしてインポートしておく必要があります。Rstudioを開き、Tools -> Install Packages で開かれた画面のPackagesの欄に「lmtest」と入力してInstallボタンをクリックすれば正常にインストールされます。"
   ]
  },
  {
   "cell_type": "code",
   "execution_count": 5,
   "metadata": {
    "collapsed": false
   },
   "outputs": [
    {
     "name": "stdout",
     "output_type": "stream",
     "text": [
      "try({summary(fm)})\n",
      "\n",
      "Call:\n",
      "lm(formula = Y ~ X, data = data1)\n",
      "\n",
      "Residuals:\n",
      "    Min      1Q  Median      3Q     Max \n",
      "-1.3212 -0.2682 -0.1515  0.5833  0.8485 \n",
      "\n",
      "Coefficients:\n",
      "            Estimate Std. Error t value Pr(>|t|)    \n",
      "(Intercept)  0.53333    0.48011   1.111    0.299    \n",
      "X            0.95758    0.07738  12.376 1.69e-06 ***\n",
      "---\n",
      "Signif. codes:  0 ‘***’ 0.001 ‘**’ 0.01 ‘*’ 0.05 ‘.’ 0.1 ‘ ’ 1\n",
      "\n",
      "Residual standard error: 0.7028 on 8 degrees of freedom\n",
      "Multiple R-squared:  0.9504,\tAdjusted R-squared:  0.9442 \n",
      "F-statistic: 153.2 on 1 and 8 DF,  p-value: 1.695e-06\n",
      "\n",
      "\n",
      "try({bptest(fm)})\n",
      "\n",
      "\tstudentized Breusch-Pagan test\n",
      "\n",
      "data:  fm\n",
      "BP = 0.1463, df = 1, p-value = 0.702\n",
      "\n",
      "\n"
     ]
    }
   ],
   "source": [
    "r('library(lmtest)')\n",
    "r('fm <- lm(Y ~ X, data=data1)')\n",
    "print r('summary(fm)')\n",
    "print r('bptest(fm)')"
   ]
  },
  {
   "cell_type": "markdown",
   "metadata": {},
   "source": [
    "帰無仮説BP=0を棄却することはできず、不均一分散ではなく均一分散であると結論することができます。"
   ]
  },
  {
   "cell_type": "markdown",
   "metadata": {},
   "source": [
    "最後にデータをPython側にとってきて、散布図と回帰直線を描きます。"
   ]
  },
  {
   "cell_type": "code",
   "execution_count": 6,
   "metadata": {
    "collapsed": false
   },
   "outputs": [
    {
     "data": {
      "text/plain": [
       "<matplotlib.text.Text at 0x107bc5650>"
      ]
     },
     "execution_count": 6,
     "metadata": {},
     "output_type": "execute_result"
    },
    {
     "data": {
      "image/png": "[encoded data removed]",
      "text/plain": [
       "<matplotlib.figure.Figure at 0x1043d75d0>"
      ]
     },
     "metadata": {},
     "output_type": "display_data"
    }
   ],
   "source": [
    "fm = r.get('fm$fitted.values')\n",
    "plt.scatter(data[\"X\"], data[\"Y\"])\n",
    "plt.plot(data[\"X\"], fm, 'k--')\n",
    "plt.title('Example6-1')"
   ]
  },
  {
   "cell_type": "markdown",
   "metadata": {},
   "source": [
    "例題6-2\n",
    "-----\n",
    "「k0602.csv」を用いた不均一分散のデータである場合の回帰分析。   \n",
    "BP統計量による不均一分散の有無の仮説検定を行います。"
   ]
  },
  {
   "cell_type": "markdown",
   "metadata": {},
   "source": [
    "データを読み込みます。"
   ]
  },
  {
   "cell_type": "code",
   "execution_count": 7,
   "metadata": {
    "collapsed": true
   },
   "outputs": [],
   "source": [
    "data = pd.read_csv('example/k0602.csv')"
   ]
  },
  {
   "cell_type": "markdown",
   "metadata": {},
   "source": [
    "Rへデータを渡します。"
   ]
  },
  {
   "cell_type": "code",
   "execution_count": 8,
   "metadata": {
    "collapsed": true
   },
   "outputs": [],
   "source": [
    "r = pr.R(use_pandas=True)\n",
    "r.assign('data1', data)"
   ]
  },
  {
   "cell_type": "markdown",
   "metadata": {},
   "source": [
    "Rのコマンドを実行します。  \n",
    "ここではsummary()を使って回帰分析の結果と、bptest()を使ってBP統計量による自己相関の有無の仮説検定を表示します。"
   ]
  },
  {
   "cell_type": "code",
   "execution_count": 9,
   "metadata": {
    "collapsed": false
   },
   "outputs": [
    {
     "name": "stdout",
     "output_type": "stream",
     "text": [
      "try({summary(fm)})\n",
      "\n",
      "Call:\n",
      "lm(formula = Y ~ X, data = data1)\n",
      "\n",
      "Residuals:\n",
      "    Min      1Q  Median      3Q     Max \n",
      "-2.4545 -0.7409 -0.3636  1.4000  2.2909 \n",
      "\n",
      "Coefficients:\n",
      "            Estimate Std. Error t value Pr(>|t|)   \n",
      "(Intercept)   1.0000     1.1597   0.862  0.41362   \n",
      "X             0.7455     0.1869   3.989  0.00401 **\n",
      "---\n",
      "Signif. codes:  0 ‘***’ 0.001 ‘**’ 0.01 ‘*’ 0.05 ‘.’ 0.1 ‘ ’ 1\n",
      "\n",
      "Residual standard error: 1.698 on 8 degrees of freedom\n",
      "Multiple R-squared:  0.6654,\tAdjusted R-squared:  0.6236 \n",
      "F-statistic: 15.91 on 1 and 8 DF,  p-value: 0.004013\n",
      "\n",
      "\n",
      "try({bptest(fm)})\n",
      "\n",
      "\tstudentized Breusch-Pagan test\n",
      "\n",
      "data:  fm\n",
      "BP = 8.7999, df = 1, p-value = 0.003012\n",
      "\n",
      "\n"
     ]
    }
   ],
   "source": [
    "r('library(lmtest)')\n",
    "r('fm <- lm(Y ~ X, data=data1)')\n",
    "print r('summary(fm)')\n",
    "print r('bptest(fm)')"
   ]
  },
  {
   "cell_type": "markdown",
   "metadata": {},
   "source": [
    "有意水準1%でも帰無仮説BP=0を棄却することができ、不均一分散であると結論することができます。"
   ]
  },
  {
   "cell_type": "markdown",
   "metadata": {},
   "source": [
    "最後にデータをPython側にとってきて、散布図と回帰直線を描きます。"
   ]
  },
  {
   "cell_type": "code",
   "execution_count": 10,
   "metadata": {
    "collapsed": false
   },
   "outputs": [
    {
     "data": {
      "text/plain": [
       "<matplotlib.text.Text at 0x107d27550>"
      ]
     },
     "execution_count": 10,
     "metadata": {},
     "output_type": "execute_result"
    },
    {
     "data": {
      "image/png": "[encoded data removed]",
      "text/plain": [
       "<matplotlib.figure.Figure at 0x107b4da50>"
      ]
     },
     "metadata": {},
     "output_type": "display_data"
    }
   ],
   "source": [
    "fm = r.get('fm$fitted.values')\n",
    "plt.scatter(data[\"X\"], data[\"Y\"])\n",
    "plt.plot(data[\"X\"], fm, 'k--')\n",
    "plt.title('Example6-2')"
   ]
  },
  {
   "cell_type": "markdown",
   "metadata": {},
   "source": [
    "例題6-3\n",
    "-----\n",
    "「k0602.csv」を用いた不均一分散のデータである場合の回帰分析。  \n",
    "不均一分散が存在する場合、変数を対数化することによって不均一分散の状態の解消を行います。"
   ]
  },
  {
   "cell_type": "markdown",
   "metadata": {},
   "source": [
    "先ほど読み込んだ「k0602.csv」のデータから変数の対数化を行います。"
   ]
  },
  {
   "cell_type": "code",
   "execution_count": 11,
   "metadata": {
    "collapsed": true
   },
   "outputs": [],
   "source": [
    "data[\"lnX\"] = np.log(data[\"X\"])\n",
    "data[\"lnY\"] = np.log(data[\"Y\"])"
   ]
  },
  {
   "cell_type": "code",
   "execution_count": 12,
   "metadata": {
    "collapsed": false
   },
   "outputs": [],
   "source": [
    "r = pr.R(use_pandas=True)\n",
    "r.assign('data1', data)"
   ]
  },
  {
   "cell_type": "code",
   "execution_count": 13,
   "metadata": {
    "collapsed": false
   },
   "outputs": [
    {
     "name": "stdout",
     "output_type": "stream",
     "text": [
      "try({summary(fm)})\n",
      "\n",
      "Call:\n",
      "lm(formula = lnY ~ lnX, data = data1)\n",
      "\n",
      "Residuals:\n",
      "     Min       1Q   Median       3Q      Max \n",
      "-0.36228 -0.14296 -0.01086  0.24189  0.26785 \n",
      "\n",
      "Coefficients:\n",
      "            Estimate Std. Error t value Pr(>|t|)    \n",
      "(Intercept)   0.1124     0.1960   0.573    0.582    \n",
      "lnX           0.8867     0.1179   7.523 6.78e-05 ***\n",
      "---\n",
      "Signif. codes:  0 ‘***’ 0.001 ‘**’ 0.01 ‘*’ 0.05 ‘.’ 0.1 ‘ ’ 1\n",
      "\n",
      "Residual standard error: 0.2592 on 8 degrees of freedom\n",
      "Multiple R-squared:  0.8761,\tAdjusted R-squared:  0.8607 \n",
      "F-statistic: 56.59 on 1 and 8 DF,  p-value: 6.781e-05\n",
      "\n",
      "\n",
      "try({bptest(fm)})\n",
      "\n",
      "\tstudentized Breusch-Pagan test\n",
      "\n",
      "data:  fm\n",
      "BP = 5.6443, df = 1, p-value = 0.01751\n",
      "\n",
      "\n"
     ]
    },
    {
     "data": {
      "text/plain": [
       "<matplotlib.text.Text at 0x107e343d0>"
      ]
     },
     "execution_count": 13,
     "metadata": {},
     "output_type": "execute_result"
    },
    {
     "data": {
      "image/png": "[encoded data removed]",
      "text/plain": [
       "<matplotlib.figure.Figure at 0x107d08790>"
      ]
     },
     "metadata": {},
     "output_type": "display_data"
    }
   ],
   "source": [
    "r('library(lmtest)')\n",
    "r('fm <- lm(lnY ~ lnX, data=data1)')\n",
    "print r('summary(fm)')\n",
    "print r('bptest(fm)')\n",
    "\n",
    "fm = r.get('fm$fitted.values')\n",
    "plt.scatter(data[\"lnX\"], data[\"lnY\"])\n",
    "plt.plot(data[\"lnX\"], fm, 'k--')\n",
    "plt.title('Example6-3')"
   ]
  },
  {
   "cell_type": "markdown",
   "metadata": {},
   "source": [
    "あれ？まだ不均一分散残ってますね笑  "
   ]
  },
  {
   "cell_type": "markdown",
   "metadata": {},
   "source": [
    "ちなみに本書では何故か対数化する過程で「k0602.csv」の元のX,Yデータが変わってて対数化による不均一分散の解消が成功しているかのごとくなっています笑"
   ]
  },
  {
   "cell_type": "markdown",
   "metadata": {},
   "source": [
    "「k0602.csv」と「k0603.csv」のデータ比較。"
   ]
  },
  {
   "cell_type": "code",
   "execution_count": 14,
   "metadata": {
    "collapsed": true
   },
   "outputs": [],
   "source": [
    "data6_2 = pd.read_csv('example/k0602.csv')\n",
    "data6_3 = pd.read_csv('example/k0603.csv')"
   ]
  },
  {
   "cell_type": "code",
   "execution_count": 15,
   "metadata": {
    "collapsed": false
   },
   "outputs": [
    {
     "data": {
      "text/html": [
       "<div style=\"max-height:1000px;max-width:1500px;overflow:auto;\">\n",
       "<table border=\"1\" class=\"dataframe\">\n",
       "  <thead>\n",
       "    <tr style=\"text-align: right;\">\n",
       "      <th></th>\n",
       "      <th>i</th>\n",
       "      <th>X</th>\n",
       "      <th>Y</th>\n",
       "    </tr>\n",
       "  </thead>\n",
       "  <tbody>\n",
       "    <tr>\n",
       "      <th>0</th>\n",
       "      <td>  1</td>\n",
       "      <td>  1</td>\n",
       "      <td>  1</td>\n",
       "    </tr>\n",
       "    <tr>\n",
       "      <th>1</th>\n",
       "      <td>  2</td>\n",
       "      <td>  2</td>\n",
       "      <td>  2</td>\n",
       "    </tr>\n",
       "    <tr>\n",
       "      <th>2</th>\n",
       "      <td>  3</td>\n",
       "      <td>  3</td>\n",
       "      <td>  3</td>\n",
       "    </tr>\n",
       "    <tr>\n",
       "      <th>3</th>\n",
       "      <td>  4</td>\n",
       "      <td>  4</td>\n",
       "      <td>  5</td>\n",
       "    </tr>\n",
       "    <tr>\n",
       "      <th>4</th>\n",
       "      <td>  5</td>\n",
       "      <td>  5</td>\n",
       "      <td>  4</td>\n",
       "    </tr>\n",
       "    <tr>\n",
       "      <th>5</th>\n",
       "      <td>  6</td>\n",
       "      <td>  6</td>\n",
       "      <td>  7</td>\n",
       "    </tr>\n",
       "    <tr>\n",
       "      <th>6</th>\n",
       "      <td>  7</td>\n",
       "      <td>  7</td>\n",
       "      <td>  8</td>\n",
       "    </tr>\n",
       "    <tr>\n",
       "      <th>7</th>\n",
       "      <td>  8</td>\n",
       "      <td>  8</td>\n",
       "      <td>  5</td>\n",
       "    </tr>\n",
       "    <tr>\n",
       "      <th>8</th>\n",
       "      <td>  9</td>\n",
       "      <td>  9</td>\n",
       "      <td> 10</td>\n",
       "    </tr>\n",
       "    <tr>\n",
       "      <th>9</th>\n",
       "      <td> 10</td>\n",
       "      <td> 10</td>\n",
       "      <td>  6</td>\n",
       "    </tr>\n",
       "  </tbody>\n",
       "</table>\n",
       "</div>"
      ],
      "text/plain": [
       "    i   X   Y\n",
       "0   1   1   1\n",
       "1   2   2   2\n",
       "2   3   3   3\n",
       "3   4   4   5\n",
       "4   5   5   4\n",
       "5   6   6   7\n",
       "6   7   7   8\n",
       "7   8   8   5\n",
       "8   9   9  10\n",
       "9  10  10   6"
      ]
     },
     "execution_count": 15,
     "metadata": {},
     "output_type": "execute_result"
    }
   ],
   "source": [
    "data6_2"
   ]
  },
  {
   "cell_type": "code",
   "execution_count": 16,
   "metadata": {
    "collapsed": false
   },
   "outputs": [
    {
     "data": {
      "text/html": [
       "<div style=\"max-height:1000px;max-width:1500px;overflow:auto;\">\n",
       "<table border=\"1\" class=\"dataframe\">\n",
       "  <thead>\n",
       "    <tr style=\"text-align: right;\">\n",
       "      <th></th>\n",
       "      <th>i</th>\n",
       "      <th>X</th>\n",
       "      <th>Y</th>\n",
       "      <th>lnX</th>\n",
       "      <th>lnY</th>\n",
       "    </tr>\n",
       "  </thead>\n",
       "  <tbody>\n",
       "    <tr>\n",
       "      <th>0</th>\n",
       "      <td>  1</td>\n",
       "      <td>  1.0</td>\n",
       "      <td>  1.0</td>\n",
       "      <td> 0.000000</td>\n",
       "      <td> 0.000000</td>\n",
       "    </tr>\n",
       "    <tr>\n",
       "      <th>1</th>\n",
       "      <td>  2</td>\n",
       "      <td>  1.5</td>\n",
       "      <td>  2.5</td>\n",
       "      <td> 0.405465</td>\n",
       "      <td> 0.916291</td>\n",
       "    </tr>\n",
       "    <tr>\n",
       "      <th>2</th>\n",
       "      <td>  3</td>\n",
       "      <td>  2.0</td>\n",
       "      <td>  2.0</td>\n",
       "      <td> 0.693147</td>\n",
       "      <td> 0.693147</td>\n",
       "    </tr>\n",
       "    <tr>\n",
       "      <th>3</th>\n",
       "      <td>  4</td>\n",
       "      <td>  2.5</td>\n",
       "      <td>  3.5</td>\n",
       "      <td> 0.916291</td>\n",
       "      <td> 1.252763</td>\n",
       "    </tr>\n",
       "    <tr>\n",
       "      <th>4</th>\n",
       "      <td>  5</td>\n",
       "      <td>  3.0</td>\n",
       "      <td>  3.0</td>\n",
       "      <td> 1.098612</td>\n",
       "      <td> 1.098612</td>\n",
       "    </tr>\n",
       "    <tr>\n",
       "      <th>5</th>\n",
       "      <td>  6</td>\n",
       "      <td>  4.0</td>\n",
       "      <td>  6.0</td>\n",
       "      <td> 1.386294</td>\n",
       "      <td> 1.791759</td>\n",
       "    </tr>\n",
       "    <tr>\n",
       "      <th>6</th>\n",
       "      <td>  7</td>\n",
       "      <td>  6.0</td>\n",
       "      <td>  8.0</td>\n",
       "      <td> 1.791759</td>\n",
       "      <td> 2.079442</td>\n",
       "    </tr>\n",
       "    <tr>\n",
       "      <th>7</th>\n",
       "      <td>  8</td>\n",
       "      <td>  7.0</td>\n",
       "      <td>  5.0</td>\n",
       "      <td> 1.945910</td>\n",
       "      <td> 1.609438</td>\n",
       "    </tr>\n",
       "    <tr>\n",
       "      <th>8</th>\n",
       "      <td>  9</td>\n",
       "      <td>  9.0</td>\n",
       "      <td> 10.0</td>\n",
       "      <td> 2.197225</td>\n",
       "      <td> 2.302585</td>\n",
       "    </tr>\n",
       "    <tr>\n",
       "      <th>9</th>\n",
       "      <td> 10</td>\n",
       "      <td> 10.0</td>\n",
       "      <td>  6.0</td>\n",
       "      <td> 2.302585</td>\n",
       "      <td> 1.791759</td>\n",
       "    </tr>\n",
       "  </tbody>\n",
       "</table>\n",
       "</div>"
      ],
      "text/plain": [
       "    i     X     Y       lnX       lnY\n",
       "0   1   1.0   1.0  0.000000  0.000000\n",
       "1   2   1.5   2.5  0.405465  0.916291\n",
       "2   3   2.0   2.0  0.693147  0.693147\n",
       "3   4   2.5   3.5  0.916291  1.252763\n",
       "4   5   3.0   3.0  1.098612  1.098612\n",
       "5   6   4.0   6.0  1.386294  1.791759\n",
       "6   7   6.0   8.0  1.791759  2.079442\n",
       "7   8   7.0   5.0  1.945910  1.609438\n",
       "8   9   9.0  10.0  2.197225  2.302585\n",
       "9  10  10.0   6.0  2.302585  1.791759"
      ]
     },
     "execution_count": 16,
     "metadata": {},
     "output_type": "execute_result"
    }
   ],
   "source": [
    "data6_3"
   ]
  },
  {
   "cell_type": "markdown",
   "metadata": {},
   "source": [
    "やっぱりX, Yの値が変わってる笑  \n",
    "とりあえず「k0603.csv」の場合の回帰も行います。"
   ]
  },
  {
   "cell_type": "code",
   "execution_count": 17,
   "metadata": {
    "collapsed": false
   },
   "outputs": [
    {
     "name": "stdout",
     "output_type": "stream",
     "text": [
      "try({summary(fm)})\n",
      "\n",
      "Call:\n",
      "lm(formula = lnY ~ lnX, data = data1)\n",
      "\n",
      "Residuals:\n",
      "     Min       1Q   Median       3Q      Max \n",
      "-0.39976 -0.26559  0.03897  0.25161  0.34650 \n",
      "\n",
      "Coefficients:\n",
      "            Estimate Std. Error t value Pr(>|t|)    \n",
      "(Intercept)   0.3162     0.1926   1.642  0.13924    \n",
      "lnX           0.8144     0.1306   6.235  0.00025 ***\n",
      "---\n",
      "Signif. codes:  0 ‘***’ 0.001 ‘**’ 0.01 ‘*’ 0.05 ‘.’ 0.1 ‘ ’ 1\n",
      "\n",
      "Residual standard error: 0.3068 on 8 degrees of freedom\n",
      "Multiple R-squared:  0.8293,\tAdjusted R-squared:  0.808 \n",
      "F-statistic: 38.88 on 1 and 8 DF,  p-value: 0.0002497\n",
      "\n",
      "\n",
      "try({bptest(fm)})\n",
      "\n",
      "\tstudentized Breusch-Pagan test\n",
      "\n",
      "data:  fm\n",
      "BP = 0.8376, df = 1, p-value = 0.3601\n",
      "\n",
      "\n"
     ]
    },
    {
     "data": {
      "text/plain": [
       "<matplotlib.text.Text at 0x107f61c10>"
      ]
     },
     "execution_count": 17,
     "metadata": {},
     "output_type": "execute_result"
    },
    {
     "data": {
      "image/png": "[encoded data removed]",
      "text/plain": [
       "<matplotlib.figure.Figure at 0x107b34e10>"
      ]
     },
     "metadata": {},
     "output_type": "display_data"
    }
   ],
   "source": [
    "r = pr.R(use_pandas=True)\n",
    "r.assign('data1', data6_3)\n",
    "\n",
    "r(' library(lmtest)  ')\n",
    "r('fm <- lm(lnY ~ lnX, data=data1)')\n",
    "print r('summary(fm)')\n",
    "print r('bptest(fm)')\n",
    "\n",
    "fm = r.get('fm$fitted.values')\n",
    "plt.scatter(data6_3[\"lnX\"], data6_3[\"lnY\"])\n",
    "plt.plot(data6_3[\"lnX\"], fm, 'k--')\n",
    "plt.title('Example6-3')"
   ]
  },
  {
   "cell_type": "markdown",
   "metadata": {},
   "source": [
    "例題6-4\n",
    "-----\n",
    "「k0602.csv」を用いた不均一分散のデータである場合の回帰分析。\n",
    "不均一分散が存在する場合、第3の変数を基準とした比率に変換することによって不均一分散の状態の解消を行います。"
   ]
  },
  {
   "cell_type": "markdown",
   "metadata": {},
   "source": [
    "例題6-4で使う「k0604.csv」も「k0602.csv」とデータが異なるので、「k0602.csv」を基にしたデータの加工は省き、直接行います。"
   ]
  },
  {
   "cell_type": "code",
   "execution_count": 18,
   "metadata": {
    "collapsed": false
   },
   "outputs": [],
   "source": [
    "data = pd.read_csv('example/k0604.csv')"
   ]
  },
  {
   "cell_type": "markdown",
   "metadata": {},
   "source": [
    "ちなみにデータの中身はこのようになっていて、  \n",
    "XZ = X / Z  \n",
    "YZ = Y / Z  \n",
    "で簡単に求めることが出来ます。  "
   ]
  },
  {
   "cell_type": "code",
   "execution_count": 19,
   "metadata": {
    "collapsed": false
   },
   "outputs": [
    {
     "data": {
      "text/html": [
       "<div style=\"max-height:1000px;max-width:1500px;overflow:auto;\">\n",
       "<table border=\"1\" class=\"dataframe\">\n",
       "  <thead>\n",
       "    <tr style=\"text-align: right;\">\n",
       "      <th></th>\n",
       "      <th>i</th>\n",
       "      <th>X</th>\n",
       "      <th>Y</th>\n",
       "      <th>Z</th>\n",
       "      <th>XZ</th>\n",
       "      <th>YZ</th>\n",
       "    </tr>\n",
       "  </thead>\n",
       "  <tbody>\n",
       "    <tr>\n",
       "      <th>0</th>\n",
       "      <td>  1</td>\n",
       "      <td>  1.0</td>\n",
       "      <td>  1.0</td>\n",
       "      <td>  0.8</td>\n",
       "      <td> 1.250000</td>\n",
       "      <td> 1.250000</td>\n",
       "    </tr>\n",
       "    <tr>\n",
       "      <th>1</th>\n",
       "      <td>  2</td>\n",
       "      <td>  1.5</td>\n",
       "      <td>  2.5</td>\n",
       "      <td>  1.5</td>\n",
       "      <td> 1.000000</td>\n",
       "      <td> 1.666667</td>\n",
       "    </tr>\n",
       "    <tr>\n",
       "      <th>2</th>\n",
       "      <td>  3</td>\n",
       "      <td>  2.0</td>\n",
       "      <td>  2.0</td>\n",
       "      <td>  2.5</td>\n",
       "      <td> 0.800000</td>\n",
       "      <td> 0.800000</td>\n",
       "    </tr>\n",
       "    <tr>\n",
       "      <th>3</th>\n",
       "      <td>  4</td>\n",
       "      <td>  2.5</td>\n",
       "      <td>  3.5</td>\n",
       "      <td>  4.0</td>\n",
       "      <td> 0.625000</td>\n",
       "      <td> 0.875000</td>\n",
       "    </tr>\n",
       "    <tr>\n",
       "      <th>4</th>\n",
       "      <td>  5</td>\n",
       "      <td>  3.0</td>\n",
       "      <td>  3.0</td>\n",
       "      <td>  3.0</td>\n",
       "      <td> 1.000000</td>\n",
       "      <td> 1.000000</td>\n",
       "    </tr>\n",
       "    <tr>\n",
       "      <th>5</th>\n",
       "      <td>  6</td>\n",
       "      <td>  4.0</td>\n",
       "      <td>  6.0</td>\n",
       "      <td>  3.5</td>\n",
       "      <td> 1.142857</td>\n",
       "      <td> 1.714286</td>\n",
       "    </tr>\n",
       "    <tr>\n",
       "      <th>6</th>\n",
       "      <td>  7</td>\n",
       "      <td>  6.0</td>\n",
       "      <td>  8.0</td>\n",
       "      <td>  4.0</td>\n",
       "      <td> 1.500000</td>\n",
       "      <td> 2.000000</td>\n",
       "    </tr>\n",
       "    <tr>\n",
       "      <th>7</th>\n",
       "      <td>  8</td>\n",
       "      <td>  7.0</td>\n",
       "      <td>  5.0</td>\n",
       "      <td>  7.5</td>\n",
       "      <td> 0.933333</td>\n",
       "      <td> 0.666667</td>\n",
       "    </tr>\n",
       "    <tr>\n",
       "      <th>8</th>\n",
       "      <td>  9</td>\n",
       "      <td>  9.0</td>\n",
       "      <td> 10.0</td>\n",
       "      <td>  9.0</td>\n",
       "      <td> 1.000000</td>\n",
       "      <td> 1.111111</td>\n",
       "    </tr>\n",
       "    <tr>\n",
       "      <th>9</th>\n",
       "      <td> 10</td>\n",
       "      <td> 10.0</td>\n",
       "      <td>  6.0</td>\n",
       "      <td> 12.0</td>\n",
       "      <td> 0.833333</td>\n",
       "      <td> 0.500000</td>\n",
       "    </tr>\n",
       "  </tbody>\n",
       "</table>\n",
       "</div>"
      ],
      "text/plain": [
       "    i     X     Y     Z        XZ        YZ\n",
       "0   1   1.0   1.0   0.8  1.250000  1.250000\n",
       "1   2   1.5   2.5   1.5  1.000000  1.666667\n",
       "2   3   2.0   2.0   2.5  0.800000  0.800000\n",
       "3   4   2.5   3.5   4.0  0.625000  0.875000\n",
       "4   5   3.0   3.0   3.0  1.000000  1.000000\n",
       "5   6   4.0   6.0   3.5  1.142857  1.714286\n",
       "6   7   6.0   8.0   4.0  1.500000  2.000000\n",
       "7   8   7.0   5.0   7.5  0.933333  0.666667\n",
       "8   9   9.0  10.0   9.0  1.000000  1.111111\n",
       "9  10  10.0   6.0  12.0  0.833333  0.500000"
      ]
     },
     "execution_count": 19,
     "metadata": {},
     "output_type": "execute_result"
    }
   ],
   "source": [
    "data"
   ]
  },
  {
   "cell_type": "code",
   "execution_count": 20,
   "metadata": {
    "collapsed": false
   },
   "outputs": [
    {
     "name": "stdout",
     "output_type": "stream",
     "text": [
      "try({summary(fm)})\n",
      "\n",
      "Call:\n",
      "lm(formula = YZ ~ XZ, data = data1)\n",
      "\n",
      "Residuals:\n",
      "     Min       1Q   Median       3Q      Max \n",
      "-0.38733 -0.24799 -0.03496  0.25279  0.52138 \n",
      "\n",
      "Coefficients:\n",
      "            Estimate Std. Error t value Pr(>|t|)   \n",
      "(Intercept)  -0.4025     0.4676  -0.861    0.414   \n",
      "XZ            1.5477     0.4517   3.426    0.009 **\n",
      "---\n",
      "Signif. codes:  0 ‘***’ 0.001 ‘**’ 0.01 ‘*’ 0.05 ‘.’ 0.1 ‘ ’ 1\n",
      "\n",
      "Residual standard error: 0.3335 on 8 degrees of freedom\n",
      "Multiple R-squared:  0.5947,\tAdjusted R-squared:  0.5441 \n",
      "F-statistic: 11.74 on 1 and 8 DF,  p-value: 0.009004\n",
      "\n",
      "\n",
      "try({bptest(fm)})\n",
      "\n",
      "\tstudentized Breusch-Pagan test\n",
      "\n",
      "data:  fm\n",
      "BP = 0.3859, df = 1, p-value = 0.5345\n",
      "\n",
      "\n"
     ]
    },
    {
     "data": {
      "text/plain": [
       "<matplotlib.text.Text at 0x1089c3190>"
      ]
     },
     "execution_count": 20,
     "metadata": {},
     "output_type": "execute_result"
    },
    {
     "data": {
      "image/png": "[encoded data removed]",
      "text/plain": [
       "<matplotlib.figure.Figure at 0x107fbb150>"
      ]
     },
     "metadata": {},
     "output_type": "display_data"
    }
   ],
   "source": [
    "r = pr.R(use_pandas=True)\n",
    "r.assign('data1', data)\n",
    "\n",
    "r('library(lmtest)')\n",
    "r('fm <- lm(YZ ~ XZ, data=data1)')\n",
    "print r('summary(fm)')\n",
    "print r('bptest(fm)')\n",
    "\n",
    "fm = r.get('fm$fitted.values')\n",
    "plt.scatter(data[\"XZ\"], data[\"YZ\"])\n",
    "plt.plot(data[\"XZ\"], fm, 'k--')\n",
    "plt.title('Example6-4')"
   ]
  }
 ],
 "metadata": {
  "kernelspec": {
   "display_name": "Python 2",
   "language": "python",
   "name": "python2"
  },
  "language_info": {
   "codemirror_mode": {
    "name": "ipython",
    "version": 2
   },
   "file_extension": ".py",
   "mimetype": "text/x-python",
   "name": "python",
   "nbconvert_exporter": "python",
   "pygments_lexer": "ipython2",
   "version": "2.7.9"
  }
 },
 "nbformat": 4,
 "nbformat_minor": 0
}
