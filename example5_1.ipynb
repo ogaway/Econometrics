{
 "cells": [
  {
   "cell_type": "markdown",
   "metadata": {},
   "source": [
    "例題5-1\n",
    "=====\n",
    "『Rによる計量経済学』第5章「自己相関」における例題5.1のPythonコードです。  \n",
    "テキスト付属データセット「k0501.csv」ファイルを各自で出版社サイトよりダウンロードしてください。"
   ]
  },
  {
   "cell_type": "code",
   "execution_count": 1,
   "metadata": {
    "collapsed": true
   },
   "outputs": [],
   "source": [
    "%matplotlib inline"
   ]
  },
  {
   "cell_type": "code",
   "execution_count": 2,
   "metadata": {
    "collapsed": true
   },
   "outputs": [],
   "source": [
    "# -*- coding:utf-8 -*-\n",
    "import numpy as np\n",
    "import pandas as pd\n",
    "import pyper as pr\n",
    "import matplotlib.pyplot as plt"
   ]
  },
  {
   "cell_type": "markdown",
   "metadata": {},
   "source": [
    "データを読み込みます。"
   ]
  },
  {
   "cell_type": "code",
   "execution_count": 3,
   "metadata": {
    "collapsed": true
   },
   "outputs": [],
   "source": [
    "data = pd.read_csv('example/k0501.csv')"
   ]
  },
  {
   "cell_type": "markdown",
   "metadata": {},
   "source": [
    "Rへデータを渡します。"
   ]
  },
  {
   "cell_type": "code",
   "execution_count": 4,
   "metadata": {
    "collapsed": true
   },
   "outputs": [],
   "source": [
    "r = pr.R(use_pandas =True)\n",
    "r.assign('data1', data)"
   ]
  },
  {
   "cell_type": "markdown",
   "metadata": {},
   "source": [
    "Rのコマンドを実行します。  \n",
    "ここではsummary()を使って回帰分析の結果と、dwtest()を使ってダービン＝ワトソン統計量による自己相関の有無の仮説検定を表示します。  \n",
    "なお、dwtest()はlmtestを予めRでインストールしてインポートしておかなければ上手く動かないようです。Rstudioを開き、Tools -> Install Packages で開かれた画面のPackagesの欄に「lmtest」と入力してInstallボタンをクリックすれば正常にインストールされます。"
   ]
  },
  {
   "cell_type": "code",
   "execution_count": 5,
   "metadata": {
    "collapsed": false
   },
   "outputs": [
    {
     "name": "stdout",
     "output_type": "stream",
     "text": [
      "try({summary(fm)})\n",
      "\n",
      "Call:\n",
      "lm(formula = Y ~ X, data = data1)\n",
      "\n",
      "Residuals:\n",
      "    Min      1Q  Median      3Q     Max \n",
      "-1.3212 -0.2682 -0.1515  0.5833  0.8485 \n",
      "\n",
      "Coefficients:\n",
      "            Estimate Std. Error t value Pr(>|t|)    \n",
      "(Intercept)  0.53333    0.48011   1.111    0.299    \n",
      "X            0.95758    0.07738  12.376 1.69e-06 ***\n",
      "---\n",
      "Signif. codes:  0 ‘***’ 0.001 ‘**’ 0.01 ‘*’ 0.05 ‘.’ 0.1 ‘ ’ 1\n",
      "\n",
      "Residual standard error: 0.7028 on 8 degrees of freedom\n",
      "Multiple R-squared:  0.9504,\tAdjusted R-squared:  0.9442 \n",
      "F-statistic: 153.2 on 1 and 8 DF,  p-value: 1.695e-06\n",
      "\n",
      "\n",
      "try({dwtest(fm)})\n",
      "\n",
      "\tDurbin-Watson test\n",
      "\n",
      "data:  fm\n",
      "DW = 2.0286, p-value = 0.3552\n",
      "alternative hypothesis: true autocorrelation is greater than 0\n",
      "\n",
      "\n"
     ]
    }
   ],
   "source": [
    "r(' library(lmtest)  ')\n",
    "r('fm <- lm(Y ~ X, data=data1)')\n",
    "print r('summary(fm)')\n",
    "print r('dwtest(fm)')"
   ]
  },
  {
   "cell_type": "markdown",
   "metadata": {},
   "source": [
    "最後にデータをPython側にとってきて、散布図と回帰直線を描きます。"
   ]
  },
  {
   "cell_type": "code",
   "execution_count": 6,
   "metadata": {
    "collapsed": false
   },
   "outputs": [
    {
     "data": {
      "text/plain": [
       "<matplotlib.text.Text at 0x107ab96d0>"
      ]
     },
     "execution_count": 6,
     "metadata": {},
     "output_type": "execute_result"
    },
    {
     "data": {
      "image/png": "[encoded data removed]",
      "text/plain": [
       "<matplotlib.figure.Figure at 0x107a34610>"
      ]
     },
     "metadata": {},
     "output_type": "display_data"
    }
   ],
   "source": [
    "fm = r.get('fm$fitted.values')\n",
    "plt.scatter(data[\"X\"], data[\"Y\"])\n",
    "plt.plot(data[\"X\"], fm, 'k--')\n",
    "plt.title('Example5-1')"
   ]
  }
 ],
 "metadata": {
  "kernelspec": {
   "display_name": "Python 2",
   "language": "python",
   "name": "python2"
  },
  "language_info": {
   "codemirror_mode": {
    "name": "ipython",
    "version": 2
   },
   "file_extension": ".py",
   "mimetype": "text/x-python",
   "name": "python",
   "nbconvert_exporter": "python",
   "pygments_lexer": "ipython2",
   "version": "2.7.9"
  }
 },
 "nbformat": 4,
 "nbformat_minor": 0
}
