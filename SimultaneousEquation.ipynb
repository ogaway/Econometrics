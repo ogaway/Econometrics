{
 "cells": [
  {
   "cell_type": "markdown",
   "metadata": {},
   "source": [
    "#同時方程式体系\n",
    "『Rによる計量経済学』第10章「同時方程式体系」をPythonで実行する。  \n",
    "テキスト付属データセット(「k1001.csv」等)については出版社サイトよりダウンロードしてください。  \n",
    "また、以下の説明は本書の一部を要約したものですので、より詳しい説明は本書を参照してください。   \n",
    "\n",
    "###例題10.1\n",
    "次のような供給関数と需要関数を推定する。  \n",
    "$Q_{t} = \\alpha_{0} + \\alpha_{1} P_{t} + \\alpha_{2} E_{t} + u_{t}$  \n",
    "$Q_{t} = \\beta_{0} + \\beta_{1} P_{t} + \\beta_{2} A_{t} + v_{t}$  \n",
    "ただし、$Q_{t}$ は数量、$P_{t}$ は価格、$E_{t}$ は供給関数シフト要因、$A_{t}$ は需要関数シフト要因とする。"
   ]
  },
  {
   "cell_type": "code",
   "execution_count": 1,
   "metadata": {
    "collapsed": true
   },
   "outputs": [],
   "source": [
    "%matplotlib inline"
   ]
  },
  {
   "cell_type": "code",
   "execution_count": 2,
   "metadata": {
    "collapsed": false
   },
   "outputs": [],
   "source": [
    "# -*- coding:utf-8 -*-\n",
    "from __future__ import print_function\n",
    "import numpy as np\n",
    "import pandas as pd\n",
    "import statsmodels.api as sm\n",
    "from statsmodels.sandbox.regression.gmm import IV2SLS\n",
    "import matplotlib.pyplot as plt"
   ]
  },
  {
   "cell_type": "code",
   "execution_count": 3,
   "metadata": {
    "collapsed": false
   },
   "outputs": [],
   "source": [
    "# データ読み込み\n",
    "data = pd.read_csv('example/k1001.csv')"
   ]
  },
  {
   "cell_type": "code",
   "execution_count": 4,
   "metadata": {
    "collapsed": false
   },
   "outputs": [],
   "source": [
    "# 式1説明変数設定\n",
    "X1 = data[['P', 'E']].as_matrix().reshape(-1, 2)\n",
    "X1 = sm.add_constant(X1)\n",
    "# 式2説明変数設定\n",
    "X2 = data[['P', 'A']].as_matrix().reshape(-1, 2)\n",
    "X2 = sm.add_constant(X2)"
   ]
  },
  {
   "cell_type": "code",
   "execution_count": 5,
   "metadata": {
    "collapsed": false
   },
   "outputs": [],
   "source": [
    "# 被説明変数設定\n",
    "Y = data[['Q']].as_matrix().reshape(-1)"
   ]
  },
  {
   "cell_type": "code",
   "execution_count": 6,
   "metadata": {
    "collapsed": true
   },
   "outputs": [],
   "source": [
    "# OLSの実行(Ordinary Least Squares: 最小二乗法)\n",
    "model1 = sm.OLS(Y, X1)\n",
    "model2 = sm.OLS(Y, X2)\n",
    "result1 = model1.fit()\n",
    "result2 = model2.fit()"
   ]
  },
  {
   "cell_type": "code",
   "execution_count": 7,
   "metadata": {
    "collapsed": false
   },
   "outputs": [
    {
     "name": "stdout",
     "output_type": "stream",
     "text": [
      "                            OLS Regression Results                            \n",
      "==============================================================================\n",
      "Dep. Variable:                      y   R-squared:                       0.529\n",
      "Model:                            OLS   Adj. R-squared:                  0.474\n",
      "Method:                 Least Squares   F-statistic:                     9.548\n",
      "Date:                Sun, 19 Jul 2015   Prob (F-statistic):            0.00166\n",
      "Time:                        02:56:37   Log-Likelihood:                -22.259\n",
      "No. Observations:                  20   AIC:                             50.52\n",
      "Df Residuals:                      17   BIC:                             53.51\n",
      "Df Model:                           2                                         \n",
      "Covariance Type:            nonrobust                                         \n",
      "==============================================================================\n",
      "                 coef    std err          t      P>|t|      [95.0% Conf. Int.]\n",
      "------------------------------------------------------------------------------\n",
      "const          4.8581      0.695      6.988      0.000         3.391     6.325\n",
      "x1             1.5094      0.379      3.983      0.001         0.710     2.309\n",
      "x2            -1.5202      0.353     -4.308      0.000        -2.265    -0.776\n",
      "==============================================================================\n",
      "Omnibus:                        1.092   Durbin-Watson:                   1.191\n",
      "Prob(Omnibus):                  0.579   Jarque-Bera (JB):                0.757\n",
      "Skew:                           0.458   Prob(JB):                        0.685\n",
      "Kurtosis:                       2.740   Cond. No.                         31.6\n",
      "==============================================================================\n",
      "\n",
      "Warnings:\n",
      "[1] Standard Errors assume that the covariance matrix of the errors is correctly specified.\n"
     ]
    }
   ],
   "source": [
    "print(result1.summary())"
   ]
  },
  {
   "cell_type": "code",
   "execution_count": 8,
   "metadata": {
    "collapsed": false
   },
   "outputs": [
    {
     "name": "stdout",
     "output_type": "stream",
     "text": [
      "                            OLS Regression Results                            \n",
      "==============================================================================\n",
      "Dep. Variable:                      y   R-squared:                       0.627\n",
      "Model:                            OLS   Adj. R-squared:                  0.583\n",
      "Method:                 Least Squares   F-statistic:                     14.30\n",
      "Date:                Sun, 19 Jul 2015   Prob (F-statistic):           0.000227\n",
      "Time:                        02:56:37   Log-Likelihood:                -19.920\n",
      "No. Observations:                  20   AIC:                             45.84\n",
      "Df Residuals:                      17   BIC:                             48.83\n",
      "Df Model:                           2                                         \n",
      "Covariance Type:            nonrobust                                         \n",
      "==============================================================================\n",
      "                 coef    std err          t      P>|t|      [95.0% Conf. Int.]\n",
      "------------------------------------------------------------------------------\n",
      "const         16.6747      1.905      8.752      0.000        12.655    20.694\n",
      "x1            -0.9088      0.180     -5.047      0.000        -1.289    -0.529\n",
      "x2            -1.0369      0.196     -5.285      0.000        -1.451    -0.623\n",
      "==============================================================================\n",
      "Omnibus:                        1.032   Durbin-Watson:                   0.660\n",
      "Prob(Omnibus):                  0.597   Jarque-Bera (JB):                0.132\n",
      "Skew:                           0.086   Prob(JB):                        0.936\n",
      "Kurtosis:                       3.358   Cond. No.                         90.0\n",
      "==============================================================================\n",
      "\n",
      "Warnings:\n",
      "[1] Standard Errors assume that the covariance matrix of the errors is correctly specified.\n"
     ]
    }
   ],
   "source": [
    "print(result2.summary())"
   ]
  },
  {
   "cell_type": "markdown",
   "metadata": {},
   "source": [
    "この結果から古典的最小二乗法による推定式をまとめると、  \n",
    "[供給関数]   \n",
    "$\\hat Q_{i} = 4.8581 + 1.5094 P_{i} - 1.5202 E_{i} $  \n",
    "[需要関数]  \n",
    "$\\hat Q_{i} = 16.6747 - 0.9088 P_{i} - 1.0369 A_{i}$  \n",
    "となる。  \n",
    "\n",
    "しかし、説明変数Pと誤差の間に関係があるため、同時方程式バイアスが生じてしまいます。  \n",
    "\n",
    "そこで、以下では同時方程式体系の推定法として代表的な**二段階最小二乗法**を用いて推定し直します。"
   ]
  },
  {
   "cell_type": "code",
   "execution_count": 9,
   "metadata": {
    "collapsed": false
   },
   "outputs": [],
   "source": [
    "# 外生変数設定\n",
    "inst = data[[ 'A', 'E']].as_matrix()\n",
    "inst = sm.add_constant(inst)"
   ]
  },
  {
   "cell_type": "code",
   "execution_count": 10,
   "metadata": {
    "collapsed": false
   },
   "outputs": [],
   "source": [
    "# 2SLSの実行(Two Stage Least Squares: 二段階最小二乗法)\n",
    "model1 = IV2SLS(Y, X1, inst)\n",
    "model2 = IV2SLS(Y, X2, inst)\n",
    "result1 = model1.fit()\n",
    "result2 = model2.fit()"
   ]
  },
  {
   "cell_type": "code",
   "execution_count": 11,
   "metadata": {
    "collapsed": false
   },
   "outputs": [
    {
     "name": "stdout",
     "output_type": "stream",
     "text": [
      "                          IV2SLS Regression Results                           \n",
      "==============================================================================\n",
      "Dep. Variable:                      y   R-squared:                       0.434\n",
      "Model:                         IV2SLS   Adj. R-squared:                  0.367\n",
      "Method:                     Two Stage   F-statistic:                     10.66\n",
      "                        Least Squares   Prob (F-statistic):            0.00100\n",
      "Date:                Sun, 19 Jul 2015                                         \n",
      "Time:                        02:56:37                                         \n",
      "No. Observations:                  20                                         \n",
      "Df Residuals:                      17                                         \n",
      "Df Model:                           2                                         \n",
      "==============================================================================\n",
      "                 coef    std err          t      P>|t|      [95.0% Conf. Int.]\n",
      "------------------------------------------------------------------------------\n",
      "const          3.7867      0.889      4.259      0.001         1.911     5.663\n",
      "x1             2.2119      0.513      4.315      0.000         1.130     3.293\n",
      "x2            -2.1531      0.472     -4.561      0.000        -3.149    -1.157\n",
      "==============================================================================\n",
      "Omnibus:                        3.627   Durbin-Watson:                   1.436\n",
      "Prob(Omnibus):                  0.163   Jarque-Bera (JB):                2.600\n",
      "Skew:                           0.881   Prob(JB):                        0.273\n",
      "Kurtosis:                       2.872   Cond. No.                         31.6\n",
      "==============================================================================\n"
     ]
    }
   ],
   "source": [
    "print(result1.summary())"
   ]
  },
  {
   "cell_type": "code",
   "execution_count": 12,
   "metadata": {
    "collapsed": false
   },
   "outputs": [
    {
     "name": "stdout",
     "output_type": "stream",
     "text": [
      "                          IV2SLS Regression Results                           \n",
      "==============================================================================\n",
      "Dep. Variable:                      y   R-squared:                       0.618\n",
      "Model:                         IV2SLS   Adj. R-squared:                  0.573\n",
      "Method:                     Two Stage   F-statistic:                     15.80\n",
      "                        Least Squares   Prob (F-statistic):           0.000133\n",
      "Date:                Sun, 19 Jul 2015                                         \n",
      "Time:                        02:56:37                                         \n",
      "No. Observations:                  20                                         \n",
      "Df Residuals:                      17                                         \n",
      "Df Model:                           2                                         \n",
      "==============================================================================\n",
      "                 coef    std err          t      P>|t|      [95.0% Conf. Int.]\n",
      "------------------------------------------------------------------------------\n",
      "const         17.8558      2.023      8.828      0.000        13.589    22.123\n",
      "x1            -1.0249      0.192     -5.342      0.000        -1.430    -0.620\n",
      "x2            -1.1484      0.207     -5.554      0.000        -1.585    -0.712\n",
      "==============================================================================\n",
      "Omnibus:                        0.871   Durbin-Watson:                   0.673\n",
      "Prob(Omnibus):                  0.647   Jarque-Bera (JB):                0.081\n",
      "Skew:                          -0.067   Prob(JB):                        0.960\n",
      "Kurtosis:                       3.282   Cond. No.                         90.0\n",
      "==============================================================================\n"
     ]
    }
   ],
   "source": [
    "print(result2.summary())"
   ]
  },
  {
   "cell_type": "markdown",
   "metadata": {},
   "source": [
    "この結果から二段階最小二乗法による推定式をまとめると、  \n",
    "[供給関数]   \n",
    "$\\hat Q_{i} = 3.7867  + 2.2119  P_{i} - 2.1531 E_{i} $  \n",
    "[需要関数]  \n",
    "$\\hat Q_{i} = 17.8558 - 1.0249 P_{i} - 1.1484 A_{i}$  \n",
    "となる。  "
   ]
  }
 ],
 "metadata": {
  "kernelspec": {
   "display_name": "Python 2",
   "language": "python",
   "name": "python2"
  },
  "language_info": {
   "codemirror_mode": {
    "name": "ipython",
    "version": 2
   },
   "file_extension": ".py",
   "mimetype": "text/x-python",
   "name": "python",
   "nbconvert_exporter": "python",
   "pygments_lexer": "ipython2",
   "version": "2.7.10"
  }
 },
 "nbformat": 4,
 "nbformat_minor": 0
}
