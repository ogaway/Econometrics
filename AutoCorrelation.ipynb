{
 "cells": [
  {
   "cell_type": "markdown",
   "metadata": {},
   "source": [
    "#自己相関\n",
    "『Rによる計量経済学』第5章「自己相関」をPythonで実行する。  \n",
    "テキスト付属データセット(「k0501.csv」等)については出版社サイトよりダウンロードしてください。  \n",
    "また、以下の説明は本書の一部を要約したものですので、より詳しい説明は本書を参照してください。   "
   ]
  },
  {
   "cell_type": "code",
   "execution_count": 1,
   "metadata": {
    "collapsed": true
   },
   "outputs": [],
   "source": [
    "%matplotlib inline"
   ]
  },
  {
   "cell_type": "code",
   "execution_count": 2,
   "metadata": {
    "collapsed": true
   },
   "outputs": [],
   "source": [
    "# -*- coding:utf-8 -*-\n",
    "from __future__ import print_function\n",
    "import numpy as np\n",
    "import pandas as pd\n",
    "import statsmodels.api as sm\n",
    "from statsmodels.stats.stattools import durbin_watson\n",
    "import matplotlib.pyplot as plt\n",
    "import warnings\n",
    "warnings.filterwarnings('ignore')"
   ]
  },
  {
   "cell_type": "markdown",
   "metadata": {},
   "source": [
    "###例題5-1"
   ]
  },
  {
   "cell_type": "code",
   "execution_count": 3,
   "metadata": {
    "collapsed": false
   },
   "outputs": [
    {
     "data": {
      "text/html": [
       "<div>\n",
       "<table border=\"1\" class=\"dataframe\">\n",
       "  <thead>\n",
       "    <tr style=\"text-align: right;\">\n",
       "      <th></th>\n",
       "      <th>i</th>\n",
       "      <th>X</th>\n",
       "      <th>Y</th>\n",
       "    </tr>\n",
       "  </thead>\n",
       "  <tbody>\n",
       "    <tr>\n",
       "      <th>0</th>\n",
       "      <td>1</td>\n",
       "      <td>1</td>\n",
       "      <td>1</td>\n",
       "    </tr>\n",
       "    <tr>\n",
       "      <th>1</th>\n",
       "      <td>2</td>\n",
       "      <td>2</td>\n",
       "      <td>3</td>\n",
       "    </tr>\n",
       "    <tr>\n",
       "      <th>2</th>\n",
       "      <td>3</td>\n",
       "      <td>3</td>\n",
       "      <td>4</td>\n",
       "    </tr>\n",
       "    <tr>\n",
       "      <th>3</th>\n",
       "      <td>4</td>\n",
       "      <td>4</td>\n",
       "      <td>5</td>\n",
       "    </tr>\n",
       "    <tr>\n",
       "      <th>4</th>\n",
       "      <td>5</td>\n",
       "      <td>5</td>\n",
       "      <td>4</td>\n",
       "    </tr>\n",
       "    <tr>\n",
       "      <th>5</th>\n",
       "      <td>6</td>\n",
       "      <td>6</td>\n",
       "      <td>6</td>\n",
       "    </tr>\n",
       "    <tr>\n",
       "      <th>6</th>\n",
       "      <td>7</td>\n",
       "      <td>7</td>\n",
       "      <td>7</td>\n",
       "    </tr>\n",
       "    <tr>\n",
       "      <th>7</th>\n",
       "      <td>8</td>\n",
       "      <td>8</td>\n",
       "      <td>8</td>\n",
       "    </tr>\n",
       "    <tr>\n",
       "      <th>8</th>\n",
       "      <td>9</td>\n",
       "      <td>9</td>\n",
       "      <td>10</td>\n",
       "    </tr>\n",
       "    <tr>\n",
       "      <th>9</th>\n",
       "      <td>10</td>\n",
       "      <td>10</td>\n",
       "      <td>10</td>\n",
       "    </tr>\n",
       "  </tbody>\n",
       "</table>\n",
       "</div>"
      ],
      "text/plain": [
       "    i   X   Y\n",
       "0   1   1   1\n",
       "1   2   2   3\n",
       "2   3   3   4\n",
       "3   4   4   5\n",
       "4   5   5   4\n",
       "5   6   6   6\n",
       "6   7   7   7\n",
       "7   8   8   8\n",
       "8   9   9  10\n",
       "9  10  10  10"
      ]
     },
     "execution_count": 3,
     "metadata": {},
     "output_type": "execute_result"
    }
   ],
   "source": [
    "# データ読み込み\n",
    "data = pd.read_csv('example/k0501.csv')\n",
    "data"
   ]
  },
  {
   "cell_type": "code",
   "execution_count": 4,
   "metadata": {
    "collapsed": false
   },
   "outputs": [
    {
     "data": {
      "text/html": [
       "<div>\n",
       "<table border=\"1\" class=\"dataframe\">\n",
       "  <thead>\n",
       "    <tr style=\"text-align: right;\">\n",
       "      <th></th>\n",
       "      <th>const</th>\n",
       "      <th>X</th>\n",
       "    </tr>\n",
       "  </thead>\n",
       "  <tbody>\n",
       "    <tr>\n",
       "      <th>0</th>\n",
       "      <td>1</td>\n",
       "      <td>1</td>\n",
       "    </tr>\n",
       "    <tr>\n",
       "      <th>1</th>\n",
       "      <td>1</td>\n",
       "      <td>2</td>\n",
       "    </tr>\n",
       "    <tr>\n",
       "      <th>2</th>\n",
       "      <td>1</td>\n",
       "      <td>3</td>\n",
       "    </tr>\n",
       "    <tr>\n",
       "      <th>3</th>\n",
       "      <td>1</td>\n",
       "      <td>4</td>\n",
       "    </tr>\n",
       "    <tr>\n",
       "      <th>4</th>\n",
       "      <td>1</td>\n",
       "      <td>5</td>\n",
       "    </tr>\n",
       "    <tr>\n",
       "      <th>5</th>\n",
       "      <td>1</td>\n",
       "      <td>6</td>\n",
       "    </tr>\n",
       "    <tr>\n",
       "      <th>6</th>\n",
       "      <td>1</td>\n",
       "      <td>7</td>\n",
       "    </tr>\n",
       "    <tr>\n",
       "      <th>7</th>\n",
       "      <td>1</td>\n",
       "      <td>8</td>\n",
       "    </tr>\n",
       "    <tr>\n",
       "      <th>8</th>\n",
       "      <td>1</td>\n",
       "      <td>9</td>\n",
       "    </tr>\n",
       "    <tr>\n",
       "      <th>9</th>\n",
       "      <td>1</td>\n",
       "      <td>10</td>\n",
       "    </tr>\n",
       "  </tbody>\n",
       "</table>\n",
       "</div>"
      ],
      "text/plain": [
       "   const   X\n",
       "0      1   1\n",
       "1      1   2\n",
       "2      1   3\n",
       "3      1   4\n",
       "4      1   5\n",
       "5      1   6\n",
       "6      1   7\n",
       "7      1   8\n",
       "8      1   9\n",
       "9      1  10"
      ]
     },
     "execution_count": 4,
     "metadata": {},
     "output_type": "execute_result"
    }
   ],
   "source": [
    "# 説明変数設定\n",
    "X = data[['X']]\n",
    "X = sm.add_constant(X)\n",
    "X"
   ]
  },
  {
   "cell_type": "code",
   "execution_count": 5,
   "metadata": {
    "collapsed": false
   },
   "outputs": [
    {
     "data": {
      "text/plain": [
       "0     1\n",
       "1     3\n",
       "2     4\n",
       "3     5\n",
       "4     4\n",
       "5     6\n",
       "6     7\n",
       "7     8\n",
       "8    10\n",
       "9    10\n",
       "Name: Y, dtype: int64"
      ]
     },
     "execution_count": 5,
     "metadata": {},
     "output_type": "execute_result"
    }
   ],
   "source": [
    "# 被説明変数設定\n",
    "Y = data['Y']\n",
    "Y"
   ]
  },
  {
   "cell_type": "code",
   "execution_count": 6,
   "metadata": {
    "collapsed": false
   },
   "outputs": [
    {
     "name": "stdout",
     "output_type": "stream",
     "text": [
      "                            OLS Regression Results                            \n",
      "==============================================================================\n",
      "Dep. Variable:                      Y   R-squared:                       0.950\n",
      "Model:                            OLS   Adj. R-squared:                  0.944\n",
      "Method:                 Least Squares   F-statistic:                     153.2\n",
      "Date:                Sun, 19 Jul 2015   Prob (F-statistic):           1.69e-06\n",
      "Time:                        04:02:41   Log-Likelihood:                -9.5470\n",
      "No. Observations:                  10   AIC:                             23.09\n",
      "Df Residuals:                       8   BIC:                             23.70\n",
      "Df Model:                           1                                         \n",
      "Covariance Type:            nonrobust                                         \n",
      "==============================================================================\n",
      "                 coef    std err          t      P>|t|      [95.0% Conf. Int.]\n",
      "------------------------------------------------------------------------------\n",
      "const          0.5333      0.480      1.111      0.299        -0.574     1.640\n",
      "X              0.9576      0.077     12.376      0.000         0.779     1.136\n",
      "==============================================================================\n",
      "Omnibus:                        0.891   Durbin-Watson:                   2.029\n",
      "Prob(Omnibus):                  0.641   Jarque-Bera (JB):                0.480\n",
      "Skew:                          -0.492   Prob(JB):                        0.787\n",
      "Kurtosis:                       2.571   Cond. No.                         13.7\n",
      "==============================================================================\n",
      "\n",
      "Warnings:\n",
      "[1] Standard Errors assume that the covariance matrix of the errors is correctly specified.\n"
     ]
    }
   ],
   "source": [
    "# OLSの実行(Ordinary Least Squares: 最小二乗法)\n",
    "model = sm.OLS(Y,X)\n",
    "results = model.fit()\n",
    "print(results.summary())"
   ]
  },
  {
   "cell_type": "code",
   "execution_count": 7,
   "metadata": {
    "collapsed": false
   },
   "outputs": [
    {
     "data": {
      "image/png": "[encoded data removed]",
      "text/plain": [
       "<matplotlib.figure.Figure at 0x10935a850>"
      ]
     },
     "metadata": {},
     "output_type": "display_data"
    }
   ],
   "source": [
    "# グラフ生成\n",
    "plt.plot(data[\"X\"], data[\"Y\"], 'o', label=\"data\")\n",
    "plt.plot(data[\"X\"], results.fittedvalues, label=\"OLS\")\n",
    "plt.xlim(min(data[\"X\"])-1, max(data[\"X\"])+1)\n",
    "plt.ylim(min(data[\"Y\"])-1, max(data[\"Y\"])+1)\n",
    "plt.title('5-1: Auto Correlation')\n",
    "plt.legend(loc=2)\n",
    "plt.show()"
   ]
  },
  {
   "cell_type": "markdown",
   "metadata": {},
   "source": [
    "Durbin-Watson: 2.029となり、2に近い値であり、自己相関がないと結論出来る。  \n",
    "DW統計量に対応するP値を求めることがPythonではおそらくできない(Excelでも出来ない)ため、[ダービン=ワトソン統計量の分布表](http://www.econ.nagoya-cu.ac.jp/~kamiyama/siryou/regress/dw-table.html)を利用して有意性の検定を行います。  \n",
    "\n",
    "この場合、標本の大きさ=10, 定数項を除いた説明変数の数=1なので、有意水準1%において、下限分布ではDW=0.604, 上限分布ではDW=1.001が有意となる境界、有意水準5%において、下限分布ではDW=0.879, 上限分布ではDW=1.320が有意となる境界です。(詳しくは本書の表を参考にしてください。)"
   ]
  },
  {
   "cell_type": "markdown",
   "metadata": {},
   "source": [
    "###例題5-2"
   ]
  },
  {
   "cell_type": "code",
   "execution_count": 8,
   "metadata": {
    "collapsed": false
   },
   "outputs": [
    {
     "data": {
      "text/html": [
       "<div>\n",
       "<table border=\"1\" class=\"dataframe\">\n",
       "  <thead>\n",
       "    <tr style=\"text-align: right;\">\n",
       "      <th></th>\n",
       "      <th>i</th>\n",
       "      <th>X</th>\n",
       "      <th>Y</th>\n",
       "    </tr>\n",
       "  </thead>\n",
       "  <tbody>\n",
       "    <tr>\n",
       "      <th>0</th>\n",
       "      <td>1</td>\n",
       "      <td>1.0</td>\n",
       "      <td>2.0</td>\n",
       "    </tr>\n",
       "    <tr>\n",
       "      <th>1</th>\n",
       "      <td>2</td>\n",
       "      <td>2.5</td>\n",
       "      <td>3.5</td>\n",
       "    </tr>\n",
       "    <tr>\n",
       "      <th>2</th>\n",
       "      <td>3</td>\n",
       "      <td>3.0</td>\n",
       "      <td>3.5</td>\n",
       "    </tr>\n",
       "    <tr>\n",
       "      <th>3</th>\n",
       "      <td>4</td>\n",
       "      <td>3.0</td>\n",
       "      <td>4.0</td>\n",
       "    </tr>\n",
       "    <tr>\n",
       "      <th>4</th>\n",
       "      <td>5</td>\n",
       "      <td>5.0</td>\n",
       "      <td>5.5</td>\n",
       "    </tr>\n",
       "    <tr>\n",
       "      <th>5</th>\n",
       "      <td>6</td>\n",
       "      <td>5.5</td>\n",
       "      <td>5.0</td>\n",
       "    </tr>\n",
       "    <tr>\n",
       "      <th>6</th>\n",
       "      <td>7</td>\n",
       "      <td>6.5</td>\n",
       "      <td>5.0</td>\n",
       "    </tr>\n",
       "    <tr>\n",
       "      <th>7</th>\n",
       "      <td>8</td>\n",
       "      <td>7.5</td>\n",
       "      <td>6.5</td>\n",
       "    </tr>\n",
       "    <tr>\n",
       "      <th>8</th>\n",
       "      <td>9</td>\n",
       "      <td>9.5</td>\n",
       "      <td>8.5</td>\n",
       "    </tr>\n",
       "    <tr>\n",
       "      <th>9</th>\n",
       "      <td>10</td>\n",
       "      <td>10.5</td>\n",
       "      <td>10.0</td>\n",
       "    </tr>\n",
       "  </tbody>\n",
       "</table>\n",
       "</div>"
      ],
      "text/plain": [
       "    i     X     Y\n",
       "0   1   1.0   2.0\n",
       "1   2   2.5   3.5\n",
       "2   3   3.0   3.5\n",
       "3   4   3.0   4.0\n",
       "4   5   5.0   5.5\n",
       "5   6   5.5   5.0\n",
       "6   7   6.5   5.0\n",
       "7   8   7.5   6.5\n",
       "8   9   9.5   8.5\n",
       "9  10  10.5  10.0"
      ]
     },
     "execution_count": 8,
     "metadata": {},
     "output_type": "execute_result"
    }
   ],
   "source": [
    "# データ読み込み\n",
    "data = pd.read_csv('example/k0502.csv')\n",
    "data"
   ]
  },
  {
   "cell_type": "code",
   "execution_count": 9,
   "metadata": {
    "collapsed": false
   },
   "outputs": [
    {
     "name": "stdout",
     "output_type": "stream",
     "text": [
      "                            OLS Regression Results                            \n",
      "==============================================================================\n",
      "Dep. Variable:                      Y   R-squared:                       0.945\n",
      "Model:                            OLS   Adj. R-squared:                  0.938\n",
      "Method:                 Least Squares   F-statistic:                     136.2\n",
      "Date:                Sun, 19 Jul 2015   Prob (F-statistic):           2.65e-06\n",
      "Time:                        04:02:41   Log-Likelihood:                -8.0714\n",
      "No. Observations:                  10   AIC:                             20.14\n",
      "Df Residuals:                       8   BIC:                             20.75\n",
      "Df Model:                           1                                         \n",
      "Covariance Type:            nonrobust                                         \n",
      "==============================================================================\n",
      "                 coef    std err          t      P>|t|      [95.0% Conf. Int.]\n",
      "------------------------------------------------------------------------------\n",
      "const          1.2739      0.398      3.197      0.013         0.355     2.193\n",
      "X              0.7548      0.065     11.671      0.000         0.606     0.904\n",
      "==============================================================================\n",
      "Omnibus:                        1.970   Durbin-Watson:                   1.094\n",
      "Prob(Omnibus):                  0.373   Jarque-Bera (JB):                0.741\n",
      "Skew:                          -0.665   Prob(JB):                        0.690\n",
      "Kurtosis:                       2.912   Cond. No.                         13.1\n",
      "==============================================================================\n",
      "\n",
      "Warnings:\n",
      "[1] Standard Errors assume that the covariance matrix of the errors is correctly specified.\n"
     ]
    },
    {
     "data": {
      "image/png": "[encoded data removed]",
      "text/plain": [
       "<matplotlib.figure.Figure at 0x1060c7850>"
      ]
     },
     "metadata": {},
     "output_type": "display_data"
    }
   ],
   "source": [
    "# 説明変数設定\n",
    "X = data[['X']]\n",
    "X = sm.add_constant(X)\n",
    "# 被説明変数設定\n",
    "Y = data['Y']\n",
    "# OLSの実行(Ordinary Least Squares: 最小二乗法)\n",
    "model = sm.OLS(Y,X)\n",
    "results = model.fit()\n",
    "print(results.summary())\n",
    "# グラフ生成\n",
    "plt.plot(data[\"X\"], data[\"Y\"], 'o', label=\"data\")\n",
    "plt.plot(data[\"X\"], results.fittedvalues, label=\"OLS\")\n",
    "plt.xlim(min(data[\"X\"])-1, max(data[\"X\"])+1)\n",
    "plt.ylim(min(data[\"Y\"])-1, max(data[\"Y\"])+1)\n",
    "plt.title('5-2: Auto Correlation')\n",
    "plt.legend(loc=2)\n",
    "plt.show()"
   ]
  },
  {
   "cell_type": "markdown",
   "metadata": {},
   "source": [
    "DW=1.094となり、上限分布において有意水準5%でも帰無仮説を棄却することができ、自己相関が存在すると結論することができる。"
   ]
  },
  {
   "cell_type": "markdown",
   "metadata": {},
   "source": [
    "###例題5-3\n",
    "変数変換によって自己相関に対処する方法を考える。  "
   ]
  },
  {
   "cell_type": "code",
   "execution_count": 10,
   "metadata": {
    "collapsed": false
   },
   "outputs": [
    {
     "data": {
      "text/html": [
       "<div>\n",
       "<table border=\"1\" class=\"dataframe\">\n",
       "  <thead>\n",
       "    <tr style=\"text-align: right;\">\n",
       "      <th></th>\n",
       "      <th>i</th>\n",
       "      <th>X</th>\n",
       "      <th>Y</th>\n",
       "      <th>dX</th>\n",
       "      <th>dY</th>\n",
       "    </tr>\n",
       "  </thead>\n",
       "  <tbody>\n",
       "    <tr>\n",
       "      <th>0</th>\n",
       "      <td>1</td>\n",
       "      <td>1.0</td>\n",
       "      <td>2.0</td>\n",
       "      <td>NaN</td>\n",
       "      <td>NaN</td>\n",
       "    </tr>\n",
       "    <tr>\n",
       "      <th>1</th>\n",
       "      <td>2</td>\n",
       "      <td>2.5</td>\n",
       "      <td>3.5</td>\n",
       "      <td>1.5</td>\n",
       "      <td>1.5</td>\n",
       "    </tr>\n",
       "    <tr>\n",
       "      <th>2</th>\n",
       "      <td>3</td>\n",
       "      <td>3.0</td>\n",
       "      <td>3.5</td>\n",
       "      <td>0.5</td>\n",
       "      <td>0.0</td>\n",
       "    </tr>\n",
       "    <tr>\n",
       "      <th>3</th>\n",
       "      <td>4</td>\n",
       "      <td>3.0</td>\n",
       "      <td>4.0</td>\n",
       "      <td>0.0</td>\n",
       "      <td>0.5</td>\n",
       "    </tr>\n",
       "    <tr>\n",
       "      <th>4</th>\n",
       "      <td>5</td>\n",
       "      <td>5.0</td>\n",
       "      <td>5.5</td>\n",
       "      <td>2.0</td>\n",
       "      <td>1.5</td>\n",
       "    </tr>\n",
       "    <tr>\n",
       "      <th>5</th>\n",
       "      <td>6</td>\n",
       "      <td>5.5</td>\n",
       "      <td>5.0</td>\n",
       "      <td>0.5</td>\n",
       "      <td>-0.5</td>\n",
       "    </tr>\n",
       "    <tr>\n",
       "      <th>6</th>\n",
       "      <td>7</td>\n",
       "      <td>6.5</td>\n",
       "      <td>5.0</td>\n",
       "      <td>1.0</td>\n",
       "      <td>0.0</td>\n",
       "    </tr>\n",
       "    <tr>\n",
       "      <th>7</th>\n",
       "      <td>8</td>\n",
       "      <td>7.5</td>\n",
       "      <td>6.5</td>\n",
       "      <td>1.0</td>\n",
       "      <td>1.5</td>\n",
       "    </tr>\n",
       "    <tr>\n",
       "      <th>8</th>\n",
       "      <td>9</td>\n",
       "      <td>9.5</td>\n",
       "      <td>8.5</td>\n",
       "      <td>2.0</td>\n",
       "      <td>2.0</td>\n",
       "    </tr>\n",
       "    <tr>\n",
       "      <th>9</th>\n",
       "      <td>10</td>\n",
       "      <td>10.5</td>\n",
       "      <td>10.0</td>\n",
       "      <td>1.0</td>\n",
       "      <td>1.5</td>\n",
       "    </tr>\n",
       "  </tbody>\n",
       "</table>\n",
       "</div>"
      ],
      "text/plain": [
       "    i     X     Y   dX   dY\n",
       "0   1   1.0   2.0  NaN  NaN\n",
       "1   2   2.5   3.5  1.5  1.5\n",
       "2   3   3.0   3.5  0.5  0.0\n",
       "3   4   3.0   4.0  0.0  0.5\n",
       "4   5   5.0   5.5  2.0  1.5\n",
       "5   6   5.5   5.0  0.5 -0.5\n",
       "6   7   6.5   5.0  1.0  0.0\n",
       "7   8   7.5   6.5  1.0  1.5\n",
       "8   9   9.5   8.5  2.0  2.0\n",
       "9  10  10.5  10.0  1.0  1.5"
      ]
     },
     "execution_count": 10,
     "metadata": {},
     "output_type": "execute_result"
    }
   ],
   "source": [
    "data['dX'] = np.nan\n",
    "data['dY'] = np.nan\n",
    "for i in range(len(data)):\n",
    "    if i == 0:\n",
    "        data['dX'][i] = np.nan\n",
    "        data['dY'][i] = np.nan\n",
    "    else:\n",
    "        data['dX'][i] = data['X'][i] - data['X'][i-1]\n",
    "        data['dY'][i] = data['Y'][i] - data['Y'][i-1]\n",
    "data"
   ]
  },
  {
   "cell_type": "code",
   "execution_count": 11,
   "metadata": {
    "collapsed": false
   },
   "outputs": [
    {
     "name": "stdout",
     "output_type": "stream",
     "text": [
      "                            OLS Regression Results                            \n",
      "==============================================================================\n",
      "Dep. Variable:                     dY   R-squared:                       0.532\n",
      "Model:                            OLS   Adj. R-squared:                  0.465\n",
      "Method:                 Least Squares   F-statistic:                     7.945\n",
      "Date:                Sun, 19 Jul 2015   Prob (F-statistic):             0.0258\n",
      "Time:                        04:02:42   Log-Likelihood:                -7.8155\n",
      "No. Observations:                   9   AIC:                             19.63\n",
      "Df Residuals:                       7   BIC:                             20.03\n",
      "Df Model:                           1                                         \n",
      "Covariance Type:            nonrobust                                         \n",
      "==============================================================================\n",
      "                 coef    std err          t      P>|t|      [95.0% Conf. Int.]\n",
      "------------------------------------------------------------------------------\n",
      "const         -0.1194      0.419     -0.285      0.784        -1.110     0.871\n",
      "dX             0.9552      0.339      2.819      0.026         0.154     1.757\n",
      "==============================================================================\n",
      "Omnibus:                        1.861   Durbin-Watson:                   1.694\n",
      "Prob(Omnibus):                  0.394   Jarque-Bera (JB):                0.834\n",
      "Skew:                          -0.259   Prob(JB):                        0.659\n",
      "Kurtosis:                       1.602   Cond. No.                         3.66\n",
      "==============================================================================\n",
      "\n",
      "Warnings:\n",
      "[1] Standard Errors assume that the covariance matrix of the errors is correctly specified.\n"
     ]
    },
    {
     "data": {
      "image/png": "[encoded data removed]",
      "text/plain": [
       "<matplotlib.figure.Figure at 0x1096f2490>"
      ]
     },
     "metadata": {},
     "output_type": "display_data"
    }
   ],
   "source": [
    "# 説明変数設定\n",
    "X = data['dX'][1:]\n",
    "X = sm.add_constant(X)\n",
    "# 被説明変数設定\n",
    "Y = data['dY'][1:]\n",
    "# OLSの実行(Ordinary Least Squares: 最小二乗法)\n",
    "model = sm.OLS(Y,X)\n",
    "results = model.fit()\n",
    "print(results.summary())\n",
    "# グラフ生成\n",
    "plt.plot(data[\"dX\"], data[\"dY\"], 'o', label=\"data\")\n",
    "plt.plot(data[\"dX\"][1:], results.fittedvalues, label=\"OLS\")\n",
    "plt.xlim(min(data[\"dX\"][1:])-0.5, max(data[\"dX\"][1:])+0.5)\n",
    "plt.ylim(min(data[\"dY\"][1:])-0.5, max(data[\"dY\"][1:])+0.5)\n",
    "plt.title('5-3: Auto Correlation')\n",
    "plt.legend(loc=2)\n",
    "plt.show()"
   ]
  }
 ],
 "metadata": {
  "kernelspec": {
   "display_name": "Python 2",
   "language": "python",
   "name": "python2"
  },
  "language_info": {
   "codemirror_mode": {
    "name": "ipython",
    "version": 2
   },
   "file_extension": ".py",
   "mimetype": "text/x-python",
   "name": "python",
   "nbconvert_exporter": "python",
   "pygments_lexer": "ipython2",
   "version": "2.7.10"
  }
 },
 "nbformat": 4,
 "nbformat_minor": 0
}
