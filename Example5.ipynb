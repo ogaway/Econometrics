{
 "cells": [
  {
   "cell_type": "markdown",
   "metadata": {},
   "source": [
    "第5章　自己相関\n",
    "=====\n",
    "『Rによる計量経済学』第5章「自己相関」におけるPythonコードです。  \n",
    "テキスト付属データセット(「k0501.csv」等)については出版社サイトよりダウンロードしてください。"
   ]
  },
  {
   "cell_type": "markdown",
   "metadata": {},
   "source": [
    "例題5-1\n",
    "-----\n",
    "「k0501.csv」を用いた自己相関のないデータの回帰分析。  \n",
    "ダービン=ワトソン統計量による自己相関の有無の仮説検定を行います。"
   ]
  },
  {
   "cell_type": "code",
   "execution_count": 1,
   "metadata": {
    "collapsed": true
   },
   "outputs": [],
   "source": [
    "%matplotlib inline"
   ]
  },
  {
   "cell_type": "code",
   "execution_count": 2,
   "metadata": {
    "collapsed": true
   },
   "outputs": [],
   "source": [
    "# -*- coding:utf-8 -*-\n",
    "import numpy as np\n",
    "import pandas as pd\n",
    "import pyper as pr\n",
    "import matplotlib.pyplot as plt"
   ]
  },
  {
   "cell_type": "markdown",
   "metadata": {},
   "source": [
    "データを読み込みます。"
   ]
  },
  {
   "cell_type": "code",
   "execution_count": 3,
   "metadata": {
    "collapsed": true
   },
   "outputs": [],
   "source": [
    "data = pd.read_csv('example/k0501.csv')"
   ]
  },
  {
   "cell_type": "markdown",
   "metadata": {},
   "source": [
    "Rへデータを渡します。"
   ]
  },
  {
   "cell_type": "code",
   "execution_count": 4,
   "metadata": {
    "collapsed": true
   },
   "outputs": [],
   "source": [
    "r = pr.R(use_pandas=True)\n",
    "r.assign('data1', data)"
   ]
  },
  {
   "cell_type": "markdown",
   "metadata": {},
   "source": [
    "Rのコマンドを実行します。  \n",
    "ここではsummary()を使って回帰分析の結果と、dwtest()を使ってダービン＝ワトソン統計量による自己相関の有無の仮説検定を表示します。  \n",
    "なお、dwtest()はlmtestを予めRでインストールしてインポートしておかなければ上手く動かないようです。Rstudioを開き、Tools -> Install Packages で開かれた画面のPackagesの欄に「lmtest」と入力してInstallボタンをクリックすれば正常にインストールされます。"
   ]
  },
  {
   "cell_type": "code",
   "execution_count": 5,
   "metadata": {
    "collapsed": false
   },
   "outputs": [
    {
     "name": "stdout",
     "output_type": "stream",
     "text": [
      "try({summary(fm)})\n",
      "\n",
      "Call:\n",
      "lm(formula = Y ~ X, data = data1)\n",
      "\n",
      "Residuals:\n",
      "    Min      1Q  Median      3Q     Max \n",
      "-1.3212 -0.2682 -0.1515  0.5833  0.8485 \n",
      "\n",
      "Coefficients:\n",
      "            Estimate Std. Error t value Pr(>|t|)    \n",
      "(Intercept)  0.53333    0.48011   1.111    0.299    \n",
      "X            0.95758    0.07738  12.376 1.69e-06 ***\n",
      "---\n",
      "Signif. codes:  0 ‘***’ 0.001 ‘**’ 0.01 ‘*’ 0.05 ‘.’ 0.1 ‘ ’ 1\n",
      "\n",
      "Residual standard error: 0.7028 on 8 degrees of freedom\n",
      "Multiple R-squared:  0.9504,\tAdjusted R-squared:  0.9442 \n",
      "F-statistic: 153.2 on 1 and 8 DF,  p-value: 1.695e-06\n",
      "\n",
      "\n",
      "try({dwtest(fm)})\n",
      "\n",
      "\tDurbin-Watson test\n",
      "\n",
      "data:  fm\n",
      "DW = 2.0286, p-value = 0.3552\n",
      "alternative hypothesis: true autocorrelation is greater than 0\n",
      "\n",
      "\n"
     ]
    }
   ],
   "source": [
    "r(' library(lmtest)  ')\n",
    "r('fm <- lm(Y ~ X, data=data1)')\n",
    "print r('summary(fm)')\n",
    "print r('dwtest(fm)')"
   ]
  },
  {
   "cell_type": "markdown",
   "metadata": {},
   "source": [
    "最後にデータをPython側にとってきて、散布図と回帰直線を描きます。"
   ]
  },
  {
   "cell_type": "code",
   "execution_count": 6,
   "metadata": {
    "collapsed": false
   },
   "outputs": [
    {
     "data": {
      "text/plain": [
       "<matplotlib.text.Text at 0x107ab9710>"
      ]
     },
     "execution_count": 6,
     "metadata": {},
     "output_type": "execute_result"
    },
    {
     "data": {
      "image/png": "[encoded data removed]",
      "text/plain": [
       "<matplotlib.figure.Figure at 0x107a41610>"
      ]
     },
     "metadata": {},
     "output_type": "display_data"
    }
   ],
   "source": [
    "fm = r.get('fm$fitted.values')\n",
    "plt.scatter(data[\"X\"], data[\"Y\"])\n",
    "plt.plot(data[\"X\"], fm, 'k--')\n",
    "plt.title('Example5-1')"
   ]
  },
  {
   "cell_type": "markdown",
   "metadata": {},
   "source": [
    "例題5-2\n",
    "-----\n",
    "「k0502.csv」を用いた自己相関のあるデータの回帰分析。  \n",
    "ダービン=ワトソン統計量による自己相関の有無の仮説検定を行います。"
   ]
  },
  {
   "cell_type": "markdown",
   "metadata": {},
   "source": [
    "データを読み込みます。"
   ]
  },
  {
   "cell_type": "code",
   "execution_count": 7,
   "metadata": {
    "collapsed": false
   },
   "outputs": [],
   "source": [
    "data = pd.read_csv('example/k0502.csv')"
   ]
  },
  {
   "cell_type": "markdown",
   "metadata": {},
   "source": [
    "Rへデータを渡します。"
   ]
  },
  {
   "cell_type": "code",
   "execution_count": 8,
   "metadata": {
    "collapsed": true
   },
   "outputs": [],
   "source": [
    "r = pr.R(use_pandas =True)\n",
    "r.assign('data1', data)"
   ]
  },
  {
   "cell_type": "markdown",
   "metadata": {},
   "source": [
    "Rのコマンドを実行します。"
   ]
  },
  {
   "cell_type": "code",
   "execution_count": 9,
   "metadata": {
    "collapsed": false
   },
   "outputs": [
    {
     "name": "stdout",
     "output_type": "stream",
     "text": [
      "try({summary(fm)})\n",
      "\n",
      "Call:\n",
      "lm(formula = Y ~ X, data = data1)\n",
      "\n",
      "Residuals:\n",
      "     Min       1Q   Median       3Q      Max \n",
      "-1.18032 -0.32871  0.01323  0.42371  0.80034 \n",
      "\n",
      "Coefficients:\n",
      "            Estimate Std. Error t value Pr(>|t|)    \n",
      "(Intercept)  1.27389    0.39844   3.197   0.0127 *  \n",
      "X            0.75484    0.06468  11.671 2.65e-06 ***\n",
      "---\n",
      "Signif. codes:  0 ‘***’ 0.001 ‘**’ 0.01 ‘*’ 0.05 ‘.’ 0.1 ‘ ’ 1\n",
      "\n",
      "Residual standard error: 0.6064 on 8 degrees of freedom\n",
      "Multiple R-squared:  0.9445,\tAdjusted R-squared:  0.9376 \n",
      "F-statistic: 136.2 on 1 and 8 DF,  p-value: 2.65e-06\n",
      "\n",
      "\n",
      "try({dwtest(fm)})\n",
      "\n",
      "\tDurbin-Watson test\n",
      "\n",
      "data:  fm\n",
      "DW = 1.0941, p-value = 0.01798\n",
      "alternative hypothesis: true autocorrelation is greater than 0\n",
      "\n",
      "\n"
     ]
    }
   ],
   "source": [
    "r('library(lmtest)')\n",
    "r('fm <- lm(Y ~ X, data=data1)')\n",
    "print r('summary(fm)')\n",
    "print r('dwtest(fm)')"
   ]
  },
  {
   "cell_type": "code",
   "execution_count": 10,
   "metadata": {
    "collapsed": false
   },
   "outputs": [
    {
     "data": {
      "text/plain": [
       "<matplotlib.text.Text at 0x107d59110>"
      ]
     },
     "execution_count": 10,
     "metadata": {},
     "output_type": "execute_result"
    },
    {
     "data": {
      "image/png": "[encoded data removed]",
      "text/plain": [
       "<matplotlib.figure.Figure at 0x107a9b390>"
      ]
     },
     "metadata": {},
     "output_type": "display_data"
    }
   ],
   "source": [
    "fm = r.get('fm$fitted.values')\n",
    "plt.scatter(data[\"X\"], data[\"Y\"])\n",
    "plt.plot(data[\"X\"], fm, 'k--')\n",
    "plt.title('Example5-2')"
   ]
  },
  {
   "cell_type": "markdown",
   "metadata": {},
   "source": [
    "例題5-3\n",
    "-----\n",
    "「k0502.csv」を用いた自己相関のあるデータの回帰分析。  \n",
    "ダービン=ワトソン統計量による自己相関の有無の仮説検定を行います。"
   ]
  },
  {
   "cell_type": "markdown",
   "metadata": {},
   "source": [
    "本書では「k0502.csvのファイル」をExcelで予め計算して、\n",
    "dX,dYを求めたものを「k0503.csv」として保存し、\n",
    "「k0503.csv」を使ってRで回帰分析を行っていますが、\n",
    "せっかくなのでExcelを使わずにデータ加工の部分もpandasを使ってPythonにやらせます。  \n",
    "Rだとデータ加工がしづらいと言われますが（やったことないからわからないけど）、\n",
    "Pythonだと簡単に出来るので特有のメリットと言えそうですね。"
   ]
  },
  {
   "cell_type": "markdown",
   "metadata": {},
   "source": [
    "データ加工を行う。  \n",
    "data内に階差の項目「dX」「dY」を作る。"
   ]
  },
  {
   "cell_type": "code",
   "execution_count": 11,
   "metadata": {
    "collapsed": true
   },
   "outputs": [],
   "source": [
    "data_dX = {}\n",
    "data_dY = {}\n",
    "for i in data.index:\n",
    "    if i == 0:\n",
    "        data_dX[i] = np.nan\n",
    "        data_dY[i] = np.nan\n",
    "    if i >= 1:\n",
    "        data_dX[i] = data[\"X\"][i] - data[\"X\"][i-1]\n",
    "        data_dY[i] = data[\"Y\"][i] - data[\"Y\"][i-1]\n",
    "data[\"dX\"] = pd.Series(data_dX)\n",
    "data[\"dY\"] = pd.Series(data_dY)"
   ]
  },
  {
   "cell_type": "markdown",
   "metadata": {},
   "source": [
    "Rへデータを渡してコマンドの実行。"
   ]
  },
  {
   "cell_type": "code",
   "execution_count": 12,
   "metadata": {
    "collapsed": false
   },
   "outputs": [
    {
     "name": "stdout",
     "output_type": "stream",
     "text": [
      "try({summary(fm)})\n",
      "\n",
      "Call:\n",
      "lm(formula = dY ~ dX, data = data1)\n",
      "\n",
      "Residuals:\n",
      "    Min      1Q  Median      3Q     Max \n",
      "-0.8582 -0.3582  0.1866  0.6194  0.6642 \n",
      "\n",
      "Coefficients:\n",
      "            Estimate Std. Error t value Pr(>|t|)  \n",
      "(Intercept)  -0.1194     0.4189  -0.285   0.7839  \n",
      "dX            0.9552     0.3389   2.819   0.0258 *\n",
      "---\n",
      "Signif. codes:  0 ‘***’ 0.001 ‘**’ 0.01 ‘*’ 0.05 ‘.’ 0.1 ‘ ’ 1\n",
      "\n",
      "Residual standard error: 0.6538 on 7 degrees of freedom\n",
      "  (1 observation deleted due to missingness)\n",
      "Multiple R-squared:  0.5316,\tAdjusted R-squared:  0.4647 \n",
      "F-statistic: 7.945 on 1 and 7 DF,  p-value: 0.02582\n",
      "\n",
      "\n",
      "try({dwtest(fm)})\n",
      "\n",
      "\tDurbin-Watson test\n",
      "\n",
      "data:  fm\n",
      "DW = 1.6936, p-value = 0.3773\n",
      "alternative hypothesis: true autocorrelation is greater than 0\n",
      "\n",
      "\n"
     ]
    }
   ],
   "source": [
    "r = pr.R(use_pandas =True)\n",
    "r.assign('data1', data)\n",
    "r('library(lmtest)')\n",
    "r('fm <- lm(dY ~ dX, data=data1)')\n",
    "print r('summary(fm)')\n",
    "print r('dwtest(fm)')"
   ]
  },
  {
   "cell_type": "markdown",
   "metadata": {},
   "source": [
    "最後にデータをPython側にとってきて、散布図と回帰直線を描きます。  \n",
    "「dX」「dY」の１つ目のデータはNaNになっているので2つ目のデータからプロットを行う。(ここがちょっとスマートじゃない気がする。。)"
   ]
  },
  {
   "cell_type": "code",
   "execution_count": 13,
   "metadata": {
    "collapsed": false
   },
   "outputs": [
    {
     "data": {
      "text/plain": [
       "<matplotlib.text.Text at 0x1074bec50>"
      ]
     },
     "execution_count": 13,
     "metadata": {},
     "output_type": "execute_result"
    },
    {
     "data": {
      "image/png": "[encoded data removed]",
      "text/plain": [
       "<matplotlib.figure.Figure at 0x107d219d0>"
      ]
     },
     "metadata": {},
     "output_type": "display_data"
    }
   ],
   "source": [
    "fm = r.get('fm$fitted.values')\n",
    "plt.scatter(data[\"dX\"], data[\"dY\"])\n",
    "plt.plot(data[\"dX\"][1:], fm, 'k')\n",
    "plt.title('Example5-3')"
   ]
  }
 ],
 "metadata": {
  "kernelspec": {
   "display_name": "Python 2",
   "language": "python",
   "name": "python2"
  },
  "language_info": {
   "codemirror_mode": {
    "name": "ipython",
    "version": 2
   },
   "file_extension": ".py",
   "mimetype": "text/x-python",
   "name": "python",
   "nbconvert_exporter": "python",
   "pygments_lexer": "ipython2",
   "version": "2.7.9"
  }
 },
 "nbformat": 4,
 "nbformat_minor": 0
}
