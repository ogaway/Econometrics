{
 "cells": [
  {
   "cell_type": "markdown",
   "metadata": {},
   "source": [
    "#多重共線性(MultiCollinearity)\n",
    "『Rによる計量経済学』第8章「多重共線性」をPythonで実行する。  \n",
    "テキスト付属データセット(「k0701.csv」等)については出版社サイトよりダウンロードしてください。  \n",
    "また、以下の説明は本書の一部を要約したものですので、より詳しい説明は本書を参照してください。   \n",
    "\n",
    "###概要\n",
    "次のような重回帰モデルを推定。  \n",
    "$Y_{i} = \\alpha + \\beta X_{i} + \\gamma Z_{i} + u_{i} (i = 1, 2, ..., n)$  \n",
    "回帰係数$\\hat{\\beta}$の分散である$s_{\\hat{\\beta}}^{2}$は次の3つの部分からなる。\n",
    "\n",
    "$s_{\\hat{\\beta}}^{2} = \\frac{s^{2}}{\\Sigma (X_{i} - X)^{2}(1 - r_{XZ}^{2})}$  \n",
    "$= \\frac{(A)}{(B)[1-(C)]}$  \n",
    "\n",
    "ここで(C)が理由で回帰係数$\\hat{\\beta}$が有意にならないことを**多重共線性(multi collinearity)**の問題があると呼ぶ。\n",
    "\n",
    "###多重共線性の検討の手順  \n",
    "① 他の説明変数を除いた場合に説明力があるかを確認する。  \n",
    "② (A)の部分の計算  \n",
    "③ (B)の部分の計算  \n",
    "④ (C)の部分の計算  \n",
    "⑤ ①〜④の結果から④が原因であるかどうか判断する。  \n",
    "\n",
    "##例題8-1\n",
    "「k0801.csv」を分析。   "
   ]
  },
  {
   "cell_type": "code",
   "execution_count": 1,
   "metadata": {
    "collapsed": true
   },
   "outputs": [],
   "source": [
    "%matplotlib inline"
   ]
  },
  {
   "cell_type": "code",
   "execution_count": 2,
   "metadata": {
    "collapsed": true
   },
   "outputs": [],
   "source": [
    "# -*- coding:utf-8 -*-\n",
    "from __future__ import print_function\n",
    "import numpy as np\n",
    "import pandas as pd\n",
    "import statsmodels.api as sm\n",
    "import matplotlib.pyplot as plt"
   ]
  },
  {
   "cell_type": "code",
   "execution_count": 3,
   "metadata": {
    "collapsed": false
   },
   "outputs": [
    {
     "data": {
      "text/html": [
       "<div>\n",
       "<table border=\"1\" class=\"dataframe\">\n",
       "  <thead>\n",
       "    <tr style=\"text-align: right;\">\n",
       "      <th></th>\n",
       "      <th>i</th>\n",
       "      <th>X</th>\n",
       "      <th>Z</th>\n",
       "      <th>Y</th>\n",
       "    </tr>\n",
       "  </thead>\n",
       "  <tbody>\n",
       "    <tr>\n",
       "      <th>0</th>\n",
       "      <td>1</td>\n",
       "      <td>1</td>\n",
       "      <td>2</td>\n",
       "      <td>1</td>\n",
       "    </tr>\n",
       "    <tr>\n",
       "      <th>1</th>\n",
       "      <td>2</td>\n",
       "      <td>3</td>\n",
       "      <td>2</td>\n",
       "      <td>3</td>\n",
       "    </tr>\n",
       "    <tr>\n",
       "      <th>2</th>\n",
       "      <td>3</td>\n",
       "      <td>5</td>\n",
       "      <td>4</td>\n",
       "      <td>4</td>\n",
       "    </tr>\n",
       "    <tr>\n",
       "      <th>3</th>\n",
       "      <td>4</td>\n",
       "      <td>5</td>\n",
       "      <td>6</td>\n",
       "      <td>5</td>\n",
       "    </tr>\n",
       "    <tr>\n",
       "      <th>4</th>\n",
       "      <td>5</td>\n",
       "      <td>8</td>\n",
       "      <td>7</td>\n",
       "      <td>7</td>\n",
       "    </tr>\n",
       "    <tr>\n",
       "      <th>5</th>\n",
       "      <td>6</td>\n",
       "      <td>9</td>\n",
       "      <td>9</td>\n",
       "      <td>8</td>\n",
       "    </tr>\n",
       "  </tbody>\n",
       "</table>\n",
       "</div>"
      ],
      "text/plain": [
       "   i  X  Z  Y\n",
       "0  1  1  2  1\n",
       "1  2  3  2  3\n",
       "2  3  5  4  4\n",
       "3  4  5  6  5\n",
       "4  5  8  7  7\n",
       "5  6  9  9  8"
      ]
     },
     "execution_count": 3,
     "metadata": {},
     "output_type": "execute_result"
    }
   ],
   "source": [
    "# データ読み込み\n",
    "data = pd.read_csv('example/k0801.csv')\n",
    "data"
   ]
  },
  {
   "cell_type": "code",
   "execution_count": 4,
   "metadata": {
    "collapsed": false
   },
   "outputs": [
    {
     "data": {
      "text/html": [
       "<div>\n",
       "<table border=\"1\" class=\"dataframe\">\n",
       "  <thead>\n",
       "    <tr style=\"text-align: right;\">\n",
       "      <th></th>\n",
       "      <th>const</th>\n",
       "      <th>X</th>\n",
       "      <th>Z</th>\n",
       "    </tr>\n",
       "  </thead>\n",
       "  <tbody>\n",
       "    <tr>\n",
       "      <th>0</th>\n",
       "      <td>1</td>\n",
       "      <td>1</td>\n",
       "      <td>2</td>\n",
       "    </tr>\n",
       "    <tr>\n",
       "      <th>1</th>\n",
       "      <td>1</td>\n",
       "      <td>3</td>\n",
       "      <td>2</td>\n",
       "    </tr>\n",
       "    <tr>\n",
       "      <th>2</th>\n",
       "      <td>1</td>\n",
       "      <td>5</td>\n",
       "      <td>4</td>\n",
       "    </tr>\n",
       "    <tr>\n",
       "      <th>3</th>\n",
       "      <td>1</td>\n",
       "      <td>5</td>\n",
       "      <td>6</td>\n",
       "    </tr>\n",
       "    <tr>\n",
       "      <th>4</th>\n",
       "      <td>1</td>\n",
       "      <td>8</td>\n",
       "      <td>7</td>\n",
       "    </tr>\n",
       "    <tr>\n",
       "      <th>5</th>\n",
       "      <td>1</td>\n",
       "      <td>9</td>\n",
       "      <td>9</td>\n",
       "    </tr>\n",
       "  </tbody>\n",
       "</table>\n",
       "</div>"
      ],
      "text/plain": [
       "   const  X  Z\n",
       "0      1  1  2\n",
       "1      1  3  2\n",
       "2      1  5  4\n",
       "3      1  5  6\n",
       "4      1  8  7\n",
       "5      1  9  9"
      ]
     },
     "execution_count": 4,
     "metadata": {},
     "output_type": "execute_result"
    }
   ],
   "source": [
    "# 説明変数設定\n",
    "X = data[['X', 'Z']]\n",
    "X = sm.add_constant(X)\n",
    "X"
   ]
  },
  {
   "cell_type": "code",
   "execution_count": 5,
   "metadata": {
    "collapsed": false
   },
   "outputs": [
    {
     "data": {
      "text/plain": [
       "0    1\n",
       "1    3\n",
       "2    4\n",
       "3    5\n",
       "4    7\n",
       "5    8\n",
       "Name: Y, dtype: int64"
      ]
     },
     "execution_count": 5,
     "metadata": {},
     "output_type": "execute_result"
    }
   ],
   "source": [
    "# 被説明変数設定\n",
    "Y = data['Y']\n",
    "Y"
   ]
  },
  {
   "cell_type": "code",
   "execution_count": 6,
   "metadata": {
    "collapsed": false
   },
   "outputs": [
    {
     "name": "stdout",
     "output_type": "stream",
     "text": [
      "                            OLS Regression Results                            \n",
      "==============================================================================\n",
      "Dep. Variable:                      Y   R-squared:                       0.988\n",
      "Model:                            OLS   Adj. R-squared:                  0.980\n",
      "Method:                 Least Squares   F-statistic:                     120.6\n",
      "Date:                Fri, 17 Jul 2015   Prob (F-statistic):            0.00136\n",
      "Time:                        22:15:54   Log-Likelihood:               -0.45977\n",
      "No. Observations:                   6   AIC:                             6.920\n",
      "Df Residuals:                       3   BIC:                             6.295\n",
      "Df Model:                           2                                         \n",
      "Covariance Type:            nonrobust                                         \n",
      "==============================================================================\n",
      "                 coef    std err          t      P>|t|      [95.0% Conf. Int.]\n",
      "------------------------------------------------------------------------------\n",
      "const          0.1767      0.330      0.536      0.629        -0.873     1.227\n",
      "X              0.6897      0.168      4.104      0.026         0.155     1.224\n",
      "Z              0.1853      0.178      1.042      0.374        -0.381     0.752\n",
      "==============================================================================\n",
      "Omnibus:                          nan   Durbin-Watson:                   3.449\n",
      "Prob(Omnibus):                    nan   Jarque-Bera (JB):                0.432\n",
      "Skew:                           0.112   Prob(JB):                        0.806\n",
      "Kurtosis:                       1.704   Cond. No.                         18.0\n",
      "==============================================================================\n",
      "\n",
      "Warnings:\n",
      "[1] Standard Errors assume that the covariance matrix of the errors is correctly specified.\n"
     ]
    },
    {
     "name": "stderr",
     "output_type": "stream",
     "text": [
      "/Users/yoshimasa/anaconda/lib/python2.7/site-packages/statsmodels/stats/stattools.py:72: UserWarning: omni_normtest is not valid with less than 8 observations; 6 samples were given.\n",
      "  \"samples were given.\" % int(n))\n"
     ]
    }
   ],
   "source": [
    "# OLSの実行(Ordinary Least Squares: 最小二乗法)\n",
    "model = sm.OLS(Y,X)\n",
    "results = model.fit()\n",
    "print(results.summary())"
   ]
  },
  {
   "cell_type": "markdown",
   "metadata": {},
   "source": [
    "これから、Xの係数 $\\hat{\\beta}$ のP値が小さく有意水準5%でも有意ですが、Zの係数 $\\hat{\\gamma}$ のP値が大きく明らかに有意でないことがわかります。"
   ]
  },
  {
   "cell_type": "code",
   "execution_count": 7,
   "metadata": {
    "collapsed": false
   },
   "outputs": [
    {
     "data": {
      "text/html": [
       "<div>\n",
       "<table border=\"1\" class=\"dataframe\">\n",
       "  <thead>\n",
       "    <tr style=\"text-align: right;\">\n",
       "      <th></th>\n",
       "      <th>const</th>\n",
       "      <th>X</th>\n",
       "    </tr>\n",
       "  </thead>\n",
       "  <tbody>\n",
       "    <tr>\n",
       "      <th>0</th>\n",
       "      <td>1</td>\n",
       "      <td>1</td>\n",
       "    </tr>\n",
       "    <tr>\n",
       "      <th>1</th>\n",
       "      <td>1</td>\n",
       "      <td>3</td>\n",
       "    </tr>\n",
       "    <tr>\n",
       "      <th>2</th>\n",
       "      <td>1</td>\n",
       "      <td>5</td>\n",
       "    </tr>\n",
       "    <tr>\n",
       "      <th>3</th>\n",
       "      <td>1</td>\n",
       "      <td>5</td>\n",
       "    </tr>\n",
       "    <tr>\n",
       "      <th>4</th>\n",
       "      <td>1</td>\n",
       "      <td>8</td>\n",
       "    </tr>\n",
       "    <tr>\n",
       "      <th>5</th>\n",
       "      <td>1</td>\n",
       "      <td>9</td>\n",
       "    </tr>\n",
       "  </tbody>\n",
       "</table>\n",
       "</div>"
      ],
      "text/plain": [
       "   const  X\n",
       "0      1  1\n",
       "1      1  3\n",
       "2      1  5\n",
       "3      1  5\n",
       "4      1  8\n",
       "5      1  9"
      ]
     },
     "execution_count": 7,
     "metadata": {},
     "output_type": "execute_result"
    }
   ],
   "source": [
    "# 説明変数設定\n",
    "X = data['X']\n",
    "X = sm.add_constant(X)\n",
    "X"
   ]
  },
  {
   "cell_type": "code",
   "execution_count": 8,
   "metadata": {
    "collapsed": false
   },
   "outputs": [
    {
     "name": "stdout",
     "output_type": "stream",
     "text": [
      "                            OLS Regression Results                            \n",
      "==============================================================================\n",
      "Dep. Variable:                      Y   R-squared:                       0.983\n",
      "Model:                            OLS   Adj. R-squared:                  0.979\n",
      "Method:                 Least Squares   F-statistic:                     235.1\n",
      "Date:                Fri, 17 Jul 2015   Prob (F-statistic):           0.000106\n",
      "Time:                        22:15:54   Log-Likelihood:                -1.3861\n",
      "No. Observations:                   6   AIC:                             6.772\n",
      "Df Residuals:                       4   BIC:                             6.356\n",
      "Df Model:                           1                                         \n",
      "Covariance Type:            nonrobust                                         \n",
      "==============================================================================\n",
      "                 coef    std err          t      P>|t|      [95.0% Conf. Int.]\n",
      "------------------------------------------------------------------------------\n",
      "const          0.2491      0.326      0.764      0.487        -0.656     1.154\n",
      "X              0.8550      0.056     15.333      0.000         0.700     1.010\n",
      "==============================================================================\n",
      "Omnibus:                          nan   Durbin-Watson:                   3.459\n",
      "Prob(Omnibus):                    nan   Jarque-Bera (JB):                0.104\n",
      "Skew:                          -0.185   Prob(JB):                        0.949\n",
      "Kurtosis:                       2.473   Cond. No.                         12.8\n",
      "==============================================================================\n",
      "\n",
      "Warnings:\n",
      "[1] Standard Errors assume that the covariance matrix of the errors is correctly specified.\n"
     ]
    }
   ],
   "source": [
    "# 説明変数をXのみにして推定\n",
    "# OLSの実行(Ordinary Least Squares: 最小二乗法)\n",
    "model = sm.OLS(Y,X)\n",
    "results = model.fit()\n",
    "print(results.summary())"
   ]
  },
  {
   "cell_type": "code",
   "execution_count": 9,
   "metadata": {
    "collapsed": false
   },
   "outputs": [
    {
     "data": {
      "text/html": [
       "<div>\n",
       "<table border=\"1\" class=\"dataframe\">\n",
       "  <thead>\n",
       "    <tr style=\"text-align: right;\">\n",
       "      <th></th>\n",
       "      <th>const</th>\n",
       "      <th>Z</th>\n",
       "    </tr>\n",
       "  </thead>\n",
       "  <tbody>\n",
       "    <tr>\n",
       "      <th>0</th>\n",
       "      <td>1</td>\n",
       "      <td>2</td>\n",
       "    </tr>\n",
       "    <tr>\n",
       "      <th>1</th>\n",
       "      <td>1</td>\n",
       "      <td>2</td>\n",
       "    </tr>\n",
       "    <tr>\n",
       "      <th>2</th>\n",
       "      <td>1</td>\n",
       "      <td>4</td>\n",
       "    </tr>\n",
       "    <tr>\n",
       "      <th>3</th>\n",
       "      <td>1</td>\n",
       "      <td>6</td>\n",
       "    </tr>\n",
       "    <tr>\n",
       "      <th>4</th>\n",
       "      <td>1</td>\n",
       "      <td>7</td>\n",
       "    </tr>\n",
       "    <tr>\n",
       "      <th>5</th>\n",
       "      <td>1</td>\n",
       "      <td>9</td>\n",
       "    </tr>\n",
       "  </tbody>\n",
       "</table>\n",
       "</div>"
      ],
      "text/plain": [
       "   const  Z\n",
       "0      1  2\n",
       "1      1  2\n",
       "2      1  4\n",
       "3      1  6\n",
       "4      1  7\n",
       "5      1  9"
      ]
     },
     "execution_count": 9,
     "metadata": {},
     "output_type": "execute_result"
    }
   ],
   "source": [
    "# 説明変数設定\n",
    "X = data['Z']\n",
    "X = sm.add_constant(X)\n",
    "X"
   ]
  },
  {
   "cell_type": "code",
   "execution_count": 10,
   "metadata": {
    "collapsed": false
   },
   "outputs": [
    {
     "name": "stdout",
     "output_type": "stream",
     "text": [
      "                            OLS Regression Results                            \n",
      "==============================================================================\n",
      "Dep. Variable:                      Y   R-squared:                       0.919\n",
      "Model:                            OLS   Adj. R-squared:                  0.898\n",
      "Method:                 Least Squares   F-statistic:                     45.23\n",
      "Date:                Fri, 17 Jul 2015   Prob (F-statistic):            0.00255\n",
      "Time:                        22:15:54   Log-Likelihood:                -6.1274\n",
      "No. Observations:                   6   AIC:                             16.25\n",
      "Df Residuals:                       4   BIC:                             15.84\n",
      "Df Model:                           1                                         \n",
      "Covariance Type:            nonrobust                                         \n",
      "==============================================================================\n",
      "                 coef    std err          t      P>|t|      [95.0% Conf. Int.]\n",
      "------------------------------------------------------------------------------\n",
      "const          0.2917      0.732      0.398      0.711        -1.741     2.324\n",
      "Z              0.8750      0.130      6.725      0.003         0.514     1.236\n",
      "==============================================================================\n",
      "Omnibus:                          nan   Durbin-Watson:                   2.567\n",
      "Prob(Omnibus):                    nan   Jarque-Bera (JB):                0.361\n",
      "Skew:                          -0.113   Prob(JB):                        0.835\n",
      "Kurtosis:                       1.820   Cond. No.                         12.6\n",
      "==============================================================================\n",
      "\n",
      "Warnings:\n",
      "[1] Standard Errors assume that the covariance matrix of the errors is correctly specified.\n"
     ]
    }
   ],
   "source": [
    "# 説明変数をZのみにして推定\n",
    "# OLSの実行(Ordinary Least Squares: 最小二乗法)\n",
    "model = sm.OLS(Y,X)\n",
    "results = model.fit()\n",
    "print(results.summary())"
   ]
  },
  {
   "cell_type": "code",
   "execution_count": 11,
   "metadata": {
    "collapsed": false
   },
   "outputs": [
    {
     "data": {
      "text/plain": [
       "i    1.870829\n",
       "X    2.994439\n",
       "Z    2.828427\n",
       "Y    2.581989\n",
       "dtype: float64"
      ]
     },
     "execution_count": 11,
     "metadata": {},
     "output_type": "execute_result"
    }
   ],
   "source": [
    "# 標準偏差\n",
    "data.std()"
   ]
  },
  {
   "cell_type": "code",
   "execution_count": 12,
   "metadata": {
    "collapsed": false
   },
   "outputs": [
    {
     "data": {
      "text/plain": [
       "i    3.500000\n",
       "X    5.166667\n",
       "Z    5.000000\n",
       "Y    4.666667\n",
       "dtype: float64"
      ]
     },
     "execution_count": 12,
     "metadata": {},
     "output_type": "execute_result"
    }
   ],
   "source": [
    "# 平均\n",
    "data.mean()"
   ]
  },
  {
   "cell_type": "code",
   "execution_count": 13,
   "metadata": {
    "collapsed": false
   },
   "outputs": [
    {
     "data": {
      "text/html": [
       "<div>\n",
       "<table border=\"1\" class=\"dataframe\">\n",
       "  <thead>\n",
       "    <tr style=\"text-align: right;\">\n",
       "      <th></th>\n",
       "      <th>i</th>\n",
       "      <th>X</th>\n",
       "      <th>Z</th>\n",
       "      <th>Y</th>\n",
       "    </tr>\n",
       "  </thead>\n",
       "  <tbody>\n",
       "    <tr>\n",
       "      <th>i</th>\n",
       "      <td>1.000000</td>\n",
       "      <td>0.981778</td>\n",
       "      <td>0.982708</td>\n",
       "      <td>0.993694</td>\n",
       "    </tr>\n",
       "    <tr>\n",
       "      <th>X</th>\n",
       "      <td>0.981778</td>\n",
       "      <td>1.000000</td>\n",
       "      <td>0.944560</td>\n",
       "      <td>0.991600</td>\n",
       "    </tr>\n",
       "    <tr>\n",
       "      <th>Z</th>\n",
       "      <td>0.982708</td>\n",
       "      <td>0.944560</td>\n",
       "      <td>1.000000</td>\n",
       "      <td>0.958514</td>\n",
       "    </tr>\n",
       "    <tr>\n",
       "      <th>Y</th>\n",
       "      <td>0.993694</td>\n",
       "      <td>0.991600</td>\n",
       "      <td>0.958514</td>\n",
       "      <td>1.000000</td>\n",
       "    </tr>\n",
       "  </tbody>\n",
       "</table>\n",
       "</div>"
      ],
      "text/plain": [
       "          i         X         Z         Y\n",
       "i  1.000000  0.981778  0.982708  0.993694\n",
       "X  0.981778  1.000000  0.944560  0.991600\n",
       "Z  0.982708  0.944560  1.000000  0.958514\n",
       "Y  0.993694  0.991600  0.958514  1.000000"
      ]
     },
     "execution_count": 13,
     "metadata": {},
     "output_type": "execute_result"
    }
   ],
   "source": [
    "# 相関係数\n",
    "data.corr()"
   ]
  },
  {
   "cell_type": "markdown",
   "metadata": {},
   "source": [
    "以上の結果から、重回帰分析において $Z_{i}$ は有意ではなかったが、多重共線性によるものだったとうかがえる。"
   ]
  },
  {
   "cell_type": "markdown",
   "metadata": {},
   "source": [
    "###赤池情報量基準(Akaike's Information Criterion: AIC)\n",
    "自由度調整済決定係数 $\\overline{R}^{2}$ と同様に、回帰係数の実質的な説明力を表す。\n",
    "\n",
    "\n",
    "しかし、Statsmodelsにはステップワイズ法を使って変数選択をしてくれるメソッドがないらしいので、[ここ](http://planspace.org/20150423-forward_selection_with_statsmodels/)のページからforward_selected()を借りて変数選択を行う。"
   ]
  },
  {
   "cell_type": "code",
   "execution_count": 14,
   "metadata": {
    "collapsed": false
   },
   "outputs": [
    {
     "data": {
      "text/html": [
       "<div>\n",
       "<table border=\"1\" class=\"dataframe\">\n",
       "  <thead>\n",
       "    <tr style=\"text-align: right;\">\n",
       "      <th></th>\n",
       "      <th>Y</th>\n",
       "      <th>X1</th>\n",
       "      <th>X2</th>\n",
       "      <th>X3</th>\n",
       "      <th>X4</th>\n",
       "      <th>X5</th>\n",
       "      <th>X6</th>\n",
       "      <th>X7</th>\n",
       "      <th>X8</th>\n",
       "    </tr>\n",
       "  </thead>\n",
       "  <tbody>\n",
       "    <tr>\n",
       "      <th>0</th>\n",
       "      <td>208.7</td>\n",
       "      <td>312.8</td>\n",
       "      <td>7.7</td>\n",
       "      <td>6.5</td>\n",
       "      <td>24.2</td>\n",
       "      <td>300</td>\n",
       "      <td>322.1</td>\n",
       "      <td>278.1</td>\n",
       "      <td>92.9</td>\n",
       "    </tr>\n",
       "    <tr>\n",
       "      <th>1</th>\n",
       "      <td>174.0</td>\n",
       "      <td>686.9</td>\n",
       "      <td>14.0</td>\n",
       "      <td>8.4</td>\n",
       "      <td>22.3</td>\n",
       "      <td>367</td>\n",
       "      <td>434.7</td>\n",
       "      <td>273.6</td>\n",
       "      <td>90.3</td>\n",
       "    </tr>\n",
       "    <tr>\n",
       "      <th>2</th>\n",
       "      <td>206.5</td>\n",
       "      <td>497.6</td>\n",
       "      <td>13.7</td>\n",
       "      <td>6.2</td>\n",
       "      <td>32.5</td>\n",
       "      <td>397</td>\n",
       "      <td>177.3</td>\n",
       "      <td>387.5</td>\n",
       "      <td>92.1</td>\n",
       "    </tr>\n",
       "    <tr>\n",
       "      <th>3</th>\n",
       "      <td>173.2</td>\n",
       "      <td>264.9</td>\n",
       "      <td>6.2</td>\n",
       "      <td>6.9</td>\n",
       "      <td>13.6</td>\n",
       "      <td>372</td>\n",
       "      <td>581.9</td>\n",
       "      <td>502.1</td>\n",
       "      <td>89.6</td>\n",
       "    </tr>\n",
       "    <tr>\n",
       "      <th>4</th>\n",
       "      <td>182.0</td>\n",
       "      <td>471.2</td>\n",
       "      <td>11.1</td>\n",
       "      <td>6.1</td>\n",
       "      <td>38.4</td>\n",
       "      <td>383</td>\n",
       "      <td>213.4</td>\n",
       "      <td>317.3</td>\n",
       "      <td>88.6</td>\n",
       "    </tr>\n",
       "    <tr>\n",
       "      <th>5</th>\n",
       "      <td>186.1</td>\n",
       "      <td>375.0</td>\n",
       "      <td>10.9</td>\n",
       "      <td>4.8</td>\n",
       "      <td>28.0</td>\n",
       "      <td>405</td>\n",
       "      <td>597.8</td>\n",
       "      <td>524.8</td>\n",
       "      <td>93.0</td>\n",
       "    </tr>\n",
       "    <tr>\n",
       "      <th>6</th>\n",
       "      <td>138.8</td>\n",
       "      <td>267.3</td>\n",
       "      <td>9.2</td>\n",
       "      <td>6.0</td>\n",
       "      <td>27.7</td>\n",
       "      <td>386</td>\n",
       "      <td>368.0</td>\n",
       "      <td>481.3</td>\n",
       "      <td>90.1</td>\n",
       "    </tr>\n",
       "    <tr>\n",
       "      <th>7</th>\n",
       "      <td>171.0</td>\n",
       "      <td>275.9</td>\n",
       "      <td>7.4</td>\n",
       "      <td>5.9</td>\n",
       "      <td>17.8</td>\n",
       "      <td>446</td>\n",
       "      <td>423.6</td>\n",
       "      <td>1253.7</td>\n",
       "      <td>90.4</td>\n",
       "    </tr>\n",
       "    <tr>\n",
       "      <th>8</th>\n",
       "      <td>126.6</td>\n",
       "      <td>303.1</td>\n",
       "      <td>6.8</td>\n",
       "      <td>5.4</td>\n",
       "      <td>22.8</td>\n",
       "      <td>411</td>\n",
       "      <td>630.2</td>\n",
       "      <td>1305.2</td>\n",
       "      <td>91.9</td>\n",
       "    </tr>\n",
       "    <tr>\n",
       "      <th>9</th>\n",
       "      <td>131.4</td>\n",
       "      <td>369.5</td>\n",
       "      <td>6.5</td>\n",
       "      <td>5.7</td>\n",
       "      <td>18.8</td>\n",
       "      <td>367</td>\n",
       "      <td>679.8</td>\n",
       "      <td>1725.9</td>\n",
       "      <td>89.3</td>\n",
       "    </tr>\n",
       "    <tr>\n",
       "      <th>10</th>\n",
       "      <td>194.8</td>\n",
       "      <td>212.8</td>\n",
       "      <td>2.2</td>\n",
       "      <td>5.7</td>\n",
       "      <td>20.8</td>\n",
       "      <td>234</td>\n",
       "      <td>1157.1</td>\n",
       "      <td>1134.6</td>\n",
       "      <td>94.2</td>\n",
       "    </tr>\n",
       "    <tr>\n",
       "      <th>11</th>\n",
       "      <td>160.5</td>\n",
       "      <td>211.1</td>\n",
       "      <td>3.7</td>\n",
       "      <td>5.6</td>\n",
       "      <td>21.1</td>\n",
       "      <td>265</td>\n",
       "      <td>930.8</td>\n",
       "      <td>1207.2</td>\n",
       "      <td>92.0</td>\n",
       "    </tr>\n",
       "    <tr>\n",
       "      <th>12</th>\n",
       "      <td>118.1</td>\n",
       "      <td>284.2</td>\n",
       "      <td>0.4</td>\n",
       "      <td>5.6</td>\n",
       "      <td>29.3</td>\n",
       "      <td>145</td>\n",
       "      <td>3396.3</td>\n",
       "      <td>1974.8</td>\n",
       "      <td>100.0</td>\n",
       "    </tr>\n",
       "    <tr>\n",
       "      <th>13</th>\n",
       "      <td>170.9</td>\n",
       "      <td>172.9</td>\n",
       "      <td>1.0</td>\n",
       "      <td>5.5</td>\n",
       "      <td>9.4</td>\n",
       "      <td>184</td>\n",
       "      <td>2410.9</td>\n",
       "      <td>1312.8</td>\n",
       "      <td>99.2</td>\n",
       "    </tr>\n",
       "    <tr>\n",
       "      <th>14</th>\n",
       "      <td>199.7</td>\n",
       "      <td>588.7</td>\n",
       "      <td>7.5</td>\n",
       "      <td>4.8</td>\n",
       "      <td>25.9</td>\n",
       "      <td>346</td>\n",
       "      <td>408.1</td>\n",
       "      <td>446.7</td>\n",
       "      <td>93.0</td>\n",
       "    </tr>\n",
       "    <tr>\n",
       "      <th>15</th>\n",
       "      <td>194.1</td>\n",
       "      <td>554.9</td>\n",
       "      <td>4.3</td>\n",
       "      <td>4.4</td>\n",
       "      <td>54.0</td>\n",
       "      <td>394</td>\n",
       "      <td>580.3</td>\n",
       "      <td>952.3</td>\n",
       "      <td>91.2</td>\n",
       "    </tr>\n",
       "    <tr>\n",
       "      <th>16</th>\n",
       "      <td>211.8</td>\n",
       "      <td>620.6</td>\n",
       "      <td>3.9</td>\n",
       "      <td>4.7</td>\n",
       "      <td>39.2</td>\n",
       "      <td>291</td>\n",
       "      <td>678.3</td>\n",
       "      <td>651.9</td>\n",
       "      <td>93.7</td>\n",
       "    </tr>\n",
       "    <tr>\n",
       "      <th>17</th>\n",
       "      <td>161.7</td>\n",
       "      <td>620.0</td>\n",
       "      <td>4.7</td>\n",
       "      <td>4.2</td>\n",
       "      <td>49.9</td>\n",
       "      <td>341</td>\n",
       "      <td>493.0</td>\n",
       "      <td>1314.9</td>\n",
       "      <td>91.2</td>\n",
       "    </tr>\n",
       "    <tr>\n",
       "      <th>18</th>\n",
       "      <td>195.0</td>\n",
       "      <td>517.6</td>\n",
       "      <td>8.5</td>\n",
       "      <td>5.3</td>\n",
       "      <td>55.4</td>\n",
       "      <td>347</td>\n",
       "      <td>673.6</td>\n",
       "      <td>1533.5</td>\n",
       "      <td>91.7</td>\n",
       "    </tr>\n",
       "    <tr>\n",
       "      <th>19</th>\n",
       "      <td>185.2</td>\n",
       "      <td>508.1</td>\n",
       "      <td>11.4</td>\n",
       "      <td>4.6</td>\n",
       "      <td>49.2</td>\n",
       "      <td>361</td>\n",
       "      <td>286.8</td>\n",
       "      <td>1583.0</td>\n",
       "      <td>90.9</td>\n",
       "    </tr>\n",
       "    <tr>\n",
       "      <th>20</th>\n",
       "      <td>179.7</td>\n",
       "      <td>374.3</td>\n",
       "      <td>3.7</td>\n",
       "      <td>4.8</td>\n",
       "      <td>28.9</td>\n",
       "      <td>297</td>\n",
       "      <td>478.7</td>\n",
       "      <td>1746.0</td>\n",
       "      <td>89.6</td>\n",
       "    </tr>\n",
       "    <tr>\n",
       "      <th>21</th>\n",
       "      <td>201.5</td>\n",
       "      <td>239.8</td>\n",
       "      <td>4.9</td>\n",
       "      <td>4.6</td>\n",
       "      <td>22.7</td>\n",
       "      <td>275</td>\n",
       "      <td>1130.8</td>\n",
       "      <td>1864.8</td>\n",
       "      <td>94.1</td>\n",
       "    </tr>\n",
       "    <tr>\n",
       "      <th>22</th>\n",
       "      <td>184.2</td>\n",
       "      <td>275.5</td>\n",
       "      <td>2.8</td>\n",
       "      <td>4.6</td>\n",
       "      <td>11.9</td>\n",
       "      <td>259</td>\n",
       "      <td>1231.8</td>\n",
       "      <td>2069.2</td>\n",
       "      <td>94.1</td>\n",
       "    </tr>\n",
       "  </tbody>\n",
       "</table>\n",
       "</div>"
      ],
      "text/plain": [
       "        Y     X1    X2   X3    X4   X5      X6      X7     X8\n",
       "0   208.7  312.8   7.7  6.5  24.2  300   322.1   278.1   92.9\n",
       "1   174.0  686.9  14.0  8.4  22.3  367   434.7   273.6   90.3\n",
       "2   206.5  497.6  13.7  6.2  32.5  397   177.3   387.5   92.1\n",
       "3   173.2  264.9   6.2  6.9  13.6  372   581.9   502.1   89.6\n",
       "4   182.0  471.2  11.1  6.1  38.4  383   213.4   317.3   88.6\n",
       "5   186.1  375.0  10.9  4.8  28.0  405   597.8   524.8   93.0\n",
       "6   138.8  267.3   9.2  6.0  27.7  386   368.0   481.3   90.1\n",
       "7   171.0  275.9   7.4  5.9  17.8  446   423.6  1253.7   90.4\n",
       "8   126.6  303.1   6.8  5.4  22.8  411   630.2  1305.2   91.9\n",
       "9   131.4  369.5   6.5  5.7  18.8  367   679.8  1725.9   89.3\n",
       "10  194.8  212.8   2.2  5.7  20.8  234  1157.1  1134.6   94.2\n",
       "11  160.5  211.1   3.7  5.6  21.1  265   930.8  1207.2   92.0\n",
       "12  118.1  284.2   0.4  5.6  29.3  145  3396.3  1974.8  100.0\n",
       "13  170.9  172.9   1.0  5.5   9.4  184  2410.9  1312.8   99.2\n",
       "14  199.7  588.7   7.5  4.8  25.9  346   408.1   446.7   93.0\n",
       "15  194.1  554.9   4.3  4.4  54.0  394   580.3   952.3   91.2\n",
       "16  211.8  620.6   3.9  4.7  39.2  291   678.3   651.9   93.7\n",
       "17  161.7  620.0   4.7  4.2  49.9  341   493.0  1314.9   91.2\n",
       "18  195.0  517.6   8.5  5.3  55.4  347   673.6  1533.5   91.7\n",
       "19  185.2  508.1  11.4  4.6  49.2  361   286.8  1583.0   90.9\n",
       "20  179.7  374.3   3.7  4.8  28.9  297   478.7  1746.0   89.6\n",
       "21  201.5  239.8   4.9  4.6  22.7  275  1130.8  1864.8   94.1\n",
       "22  184.2  275.5   2.8  4.6  11.9  259  1231.8  2069.2   94.1"
      ]
     },
     "execution_count": 14,
     "metadata": {},
     "output_type": "execute_result"
    }
   ],
   "source": [
    "# データ読み込み\n",
    "data2 = pd.read_csv('example/k0802.csv')\n",
    "data2"
   ]
  },
  {
   "cell_type": "code",
   "execution_count": 15,
   "metadata": {
    "collapsed": true
   },
   "outputs": [],
   "source": [
    "import statsmodels.formula.api as smf\n",
    "\n",
    "def forward_selected(data, response):\n",
    "    \"\"\"Linear model designed by forward selection.\n",
    "\n",
    "    Parameters:\n",
    "    -----------\n",
    "    data : pandas DataFrame with all possible predictors and response\n",
    "\n",
    "    response: string, name of response column in data\n",
    "\n",
    "    Returns:\n",
    "    --------\n",
    "    model: an \"optimal\" fitted statsmodels linear model\n",
    "           with an intercept\n",
    "           selected by forward selection\n",
    "           evaluated by adjusted R-squared\n",
    "    \"\"\"\n",
    "    remaining = set(data.columns)\n",
    "    remaining.remove(response)\n",
    "    selected = []\n",
    "    current_score, best_new_score = 0.0, 0.0\n",
    "    while remaining and current_score == best_new_score:\n",
    "        scores_with_candidates = []\n",
    "        for candidate in remaining:\n",
    "            formula = \"{} ~ {} + 1\".format(response,\n",
    "                                           ' + '.join(selected + [candidate]))\n",
    "            score = smf.ols(formula, data).fit().rsquared_adj\n",
    "            scores_with_candidates.append((score, candidate))\n",
    "        scores_with_candidates.sort()\n",
    "        best_new_score, best_candidate = scores_with_candidates.pop()\n",
    "        if current_score < best_new_score:\n",
    "            remaining.remove(best_candidate)\n",
    "            selected.append(best_candidate)\n",
    "            current_score = best_new_score\n",
    "    formula = \"{} ~ {} + 1\".format(response,\n",
    "                                   ' + '.join(selected))\n",
    "    model = smf.ols(formula, data).fit()\n",
    "    return model"
   ]
  },
  {
   "cell_type": "code",
   "execution_count": 16,
   "metadata": {
    "collapsed": false
   },
   "outputs": [
    {
     "name": "stdout",
     "output_type": "stream",
     "text": [
      "Y ~ X6 + X8 + X5 + 1\n"
     ]
    }
   ],
   "source": [
    "# 第一引数にdata、第二引数に被説明変数のコラム名\n",
    "model = forward_selected(data2, 'Y')\n",
    "print(model.model.formula)"
   ]
  },
  {
   "cell_type": "code",
   "execution_count": 17,
   "metadata": {
    "collapsed": false
   },
   "outputs": [
    {
     "name": "stdout",
     "output_type": "stream",
     "text": [
      "                            OLS Regression Results                            \n",
      "==============================================================================\n",
      "Dep. Variable:                      Y   R-squared:                       0.604\n",
      "Model:                            OLS   Adj. R-squared:                  0.542\n",
      "Method:                 Least Squares   F-statistic:                     9.674\n",
      "Date:                Fri, 17 Jul 2015   Prob (F-statistic):           0.000433\n",
      "Time:                        22:15:54   Log-Likelihood:                -96.881\n",
      "No. Observations:                  23   AIC:                             201.8\n",
      "Df Residuals:                      19   BIC:                             206.3\n",
      "Df Model:                           3                                         \n",
      "Covariance Type:            nonrobust                                         \n",
      "==============================================================================\n",
      "                 coef    std err          t      P>|t|      [95.0% Conf. Int.]\n",
      "------------------------------------------------------------------------------\n",
      "const       -620.9189    276.085     -2.249      0.037     -1198.772   -43.066\n",
      "X5            -0.1958      0.093     -2.116      0.048        -0.390    -0.002\n",
      "X6            -0.0638      0.012     -5.369      0.000        -0.089    -0.039\n",
      "X8             9.8846      2.938      3.364      0.003         3.735    16.035\n",
      "==============================================================================\n",
      "Omnibus:                        2.671   Durbin-Watson:                   2.149\n",
      "Prob(Omnibus):                  0.263   Jarque-Bera (JB):                1.672\n",
      "Skew:                          -0.659   Prob(JB):                        0.433\n",
      "Kurtosis:                       3.077   Cond. No.                     8.08e+04\n",
      "==============================================================================\n",
      "\n",
      "Warnings:\n",
      "[1] Standard Errors assume that the covariance matrix of the errors is correctly specified.\n",
      "[2] The condition number is large, 8.08e+04. This might indicate that there are\n",
      "strong multicollinearity or other numerical problems.\n"
     ]
    }
   ],
   "source": [
    "# OLS実行\n",
    "X = data2[['X5', 'X6', 'X8']]\n",
    "X = sm.add_constant(X)\n",
    "Y = data2['Y']\n",
    "model = sm.OLS(Y,X)\n",
    "results = model.fit()\n",
    "print(results.summary())"
   ]
  }
 ],
 "metadata": {
  "kernelspec": {
   "display_name": "Python 2",
   "language": "python",
   "name": "python2"
  },
  "language_info": {
   "codemirror_mode": {
    "name": "ipython",
    "version": 2
   },
   "file_extension": ".py",
   "mimetype": "text/x-python",
   "name": "python",
   "nbconvert_exporter": "python",
   "pygments_lexer": "ipython2",
   "version": "2.7.10"
  }
 },
 "nbformat": 4,
 "nbformat_minor": 0
}
